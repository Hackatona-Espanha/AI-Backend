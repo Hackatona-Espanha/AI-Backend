{
 "cells": [
  {
   "cell_type": "markdown",
   "metadata": {},
   "source": [
    "## Text Extract"
   ]
  },
  {
   "cell_type": "code",
   "execution_count": 1,
   "metadata": {},
   "outputs": [],
   "source": [
    "from src.general.ExtractText.extract_text import PDFExtractor\n",
    "\n",
    "pdf_extractor = PDFExtractor(\"./src/documents/Roma Antiga.pdf\")\n",
    "resultado = pdf_extractor.get_data()\n"
   ]
  },
  {
   "cell_type": "code",
   "execution_count": 2,
   "metadata": {},
   "outputs": [
    {
     "data": {
      "text/plain": [
       "[{'id': '0XeLRkpJQxFh',\n",
       "  'metadata': {'embedding': 'none por enquanto',\n",
       "   'text': 'ROMA ANTIGA\\nProf. João RochaLINHA DO TEMPO\\n753 a.C. 509 a.C. 27 a.C. 476 d.C.\\nMONARQUIA\\n* Fundação de \\nRoma\\n* Domínio Etrusco\\n* Conflitos \\nplebeus -patrícios\\n* Formação das \\nestruturas sociais e \\npolíticas romanasREPÚBLICA\\n* Predomínio do Senado\\n* Guerras Púnicas\\n* Expansionismo militar\\n* Roma como superpotência\\n* Revoltas de escravosIMPÉRIO\\n* Auge da dominação romana\\n* PaxRomana\\n* Problemas fronteiriços com \\n“bárbaros”\\n* Divisão do Império\\n* Queda de Roma\\na.C. d.C.FORMAÇÃO\\nAPenínsula Itálica foiocupada por diversos povos, a\\npartir doséculo XIa.C.Amistura destes povos levou à\\nconfiguração étnica ecultural deRoma .\\nPOVO LOCAL CONTRIBUIÇÕES\\nPRINCIPAIS\\nEtruscos Norte da Península \\nItálicaMilitarismo\\nUrbanização\\nItaliotas (latinos, \\nsabinos, etc.)Região central da \\nPenínsula ItálicaIdioma\\nGregos Sul da Península \\nItálica ( Magna\\nGraecia )Arquitetura\\nReligião\\nSistema político•Roma foi fundada em 753 a.C., a partir da união de \\ndiferentes aldeias agropastoris, motivada pela \\ninvasão etrusca da região.\\n•Os etruscos centralizaram o governo, ampliaram a \\npopulação e promoveram obras importantes, como \\ndrenagem de pântanos, construção de pontes e da \\nprimeira muralha da cidade.Mito de Rômulo e Remo –\\nexplicação tradicional sobre a \\norigem do povo romano\\nA MONARQUIA (753 -509 a.C.)A MONARQUIA (753 -509 a.C.)\\n•Rei compartilhava o poder com o Senado e uma \\nAssembleia.\\n–O Senado (do latim senex , “velho”) era composto por patrícios \\ncom mais de 45 anos. Com o passar do tempo, se tornou a \\nprincipal instituição romana.\\n–A Assembleia era um conselho militar formado por jovens \\nlíderes guerreiros, que decidiam sobre a guerra ou paz.\\n•Disputas de poder contínuas entre etruscos e os \\npovos locais.\\n•Reis passam a conceder benefícios à população \\ncomum à revelia do Senado, concentrando poder em \\nsuas mãos.Representação do \\nSenado romano em \\nfuncionamentoESTRUTURA SOCIAL ROMANA\\nPatrícios –Elite, composta \\npor grandes proprietários \\nrurais.\\nPlebeus –Maioria da \\npopulação romana, \\ncomposta de camponeses, \\nartesãos e comerciantes \\nlivres\\nClientes –Indivíduos livres, \\nàs vezes estrangeiros, que \\nprestavam serviços diretos \\naos Patrícios em troca de \\nbenefícios\\nEscravos –Oriundos de \\nguerras, ou cativos por \\ndívidas•Temendo perder importância, os patrícios romanos \\ndepuseram o último rei romano, Tarquínio, e \\nimplantaram um novo sistema de governo, inspirado \\nno modelo grego –a República .\\n•O Senado assume o comando político, e se torna o \\nprincipal órgão romano.\\nRES PVBLICAE : “coisa pública”, \\nadministração coletiva e \\ntransparente\\nSenatvs Popvlvsqve Romanvs\\n“Senado e o Povo Romano”A REPÚBLICA (509 A 27 a.C.)A REPÚBLICA (509 a 27 a.C.)\\n•A república manteve os privilégios da elite, \\nporém reorganizou o sistema político.\\n•O resultado foi uma intensificação dos conflitos \\nsociais, com a plebe e os escravos pressionando o \\npatriciado por reformas e melhores condições de \\nvida.\\n•Plebeus recusavam -se a trabalhar nos campos, a \\nservir o exército, e ameaçaram fundar uma \\ncidade própria caso as negociações não \\navançassem.SENADO: Expandido para \\n300 membros. Tomava as \\ndecisões finais sobre guerra, \\nimpostos e leis.\\nASSEMBLEIAS\\n•Assembleia das tribos\\n•Assembleia da plebe\\n•Assembleia centuriataMAGISTRATURAS\\n•Pretores: Justiça\\n•Censores: Estatística e \\npresidência do Senado\\n•Edis: Organização \\nurbana\\n•Questor: Coleta de \\nimpostosCONSULADO: Dois cônsules eleitos pelos magistrados para mandatos de \\napenas um ano.\\nUm dos cônsules cuidava da administração pública, e outro do exército.AS CONQUISTAS DA PLEBE\\n•Após muitas lutas, recusando -se a trabalhar e a lutar \\nnas guerras, os plebeus foram conquistando uma série \\nde direitos:\\n–O fim da escravidão por dívidas\\n–A permissão do casamento entre plebeus e patrícios\\n–A criação de uma magistratura para a plebe –o Tribuno da \\nPlebe, que poderia vetar decisões do Senado consideradas \\nruins para os plebeus\\n–O acesso dos plebeus ao cargo de sacerdotes\\n–A obrigatoriedade da escolha de um Cônsul plebeu\\n–O primeiro código escrito de leis romanas, em 450 a.C. –a \\nLei das Doze Tábuas -, que garantia igualdade jurídica a \\ntodos os homens livres (teoricamente).SENADO: Expandido para \\n300 membros. Tomava as \\ndecisões finais sobre guerra, \\nimpostos e leis.\\nAcesso dos plebeus\\nASSEMBLEIAS\\n•Assembleia das tribos\\n•Assembleia da plebe \\nganha maior \\nimportância\\n•Assembleia centuriataMAGISTRATURAS\\n•Pretores: Justiça\\n•Censores: Estatística e \\npresidência do Senado\\n•Edis: Organização \\nurbana\\n•Questor: Coleta de \\nimpostos\\n•Tribuno da PlebeCONSULADO\\nCônsul Patrício e Cônsul PlebeuCópia da Lei das Doze \\nTábuas, em placas de \\nbronzeAS GUERRAS PÚNICAS (264 a 146 a.C.)\\n•Três guerras entre Roma, uma potência em \\nascensão, e Cartago, que dominava o comércio \\nno Mediterâneo .\\n–1ª Guerra Púnica: Vitória romana. Roma anexa as ilhas \\nda Córsega, Sardenha e Sicília.\\n–2ª Guerra Púnica: O general cartaginês Aníbal tenta \\natacar Roma pelo norte, cruzando os Alpes. Nova \\nvitória romana. Roma anexa o território cartaginês na \\nPenínsula Ibérica.\\n–3ª Guerra Púnica: Roma destrói Cartago e vende sua \\npopulação como escravos.Tropas de Aníbal \\nmarcham pelos Alpes \\npara atacar RomaRepresentação da cidade \\nde Cartago . Note as \\nmuralhas que protegem a \\ncidade, e seu enorme \\nporto circular fortificado.CONSEQUÊNCIAS DAS GUERRAS PÚNICAS\\n-Destruição de Cartago\\n-Roma se transforma na principal potência \\ndo Mediterrâneo\\n-Início do expansionismo militar romano. \\nEm poucos séculos, Roma iria conquistar a \\nGrécia, o Egito, a Síria e quase todo o entorno \\ndo Mediterrâneo.\\n-Economia romana deixa de ser apenas \\nagropastoril e passa a ter um enfoque comercial.O EXPANSIONISMO ROMANO\\n•A entrada de novas \\nriquezas e a \\nprofissionalização do \\nexército romano levaram \\nà conquista de muitos \\nterritórios.\\n•Roma dominou grande \\nparte da Europa e do \\nentorno do \\nMediterrâneo, ainda \\ndurante a República.\\nMapa da evolução territorial romana desde o \\ninício da República. Os números mostram as \\ndatas (valores negativos estão antes de \\nCristo)•A conquista de novos territórios transformou \\nRoma em diversos aspectos.\\n–A economia romana, antes agrícola e pastoril passou a \\nser essencialmente comercial.\\n–Os comandantes militares, responsáveis pelas \\nconquistas romanas, adquiriram cada vez mais poder. \\nEles eram responsáveis por distribuir parte das terras \\ne riquezas entre seus soldados e, por isso, recebiam \\ngrande obediência.\\n–Muitos plebeus enriqueceram com o expansionismo, \\npassando a fornecer produtos (alimentos, armas) e \\nserviços (construção de estradas e pontes) ao Estado \\nromano. Tornaram -se u grupo social cada vez ais \\nimportante: a nobreza .•Os romanos apelidaram o Mediterrâneo de mare \\nnostrvm (“nosso mar”), demonstrando seu poder.\\n•Roma viveu um crescimento acelerado no número de \\nescravos, capturados em suas guerras de conquista.\\n•Com escravos desempenhando grande parte das \\natividades econômicas, sobrou pouco espaço para a \\nmaioria dos integrantes da plebe. Muitos plebeus se \\nviram obrigados a abandonar o campo e partir para a \\ncidade em busca de sobrevivência Êxodo ruralLUTAS INTERNAS\\n•Com a desigualdade social aumentando e o \\ndesemprego, especialmente no campo, surgiram \\npropostas de reforma agrária –ou seja, de uma \\nredistribuição das terras de Roma.\\n•Os maiores defensores dessa ideia foram os \\nirmãos Tibério e Caio Graco . Eleitos tribunos da \\nplebe, propuseram a reforma e a distribuição de \\nalimentos aos romanos pobres. Sofreram forte \\noposição do patriciado, e acabaram mortos –\\nTibério assassinado e Caio forçado a se suicidar.Representação dos irmãos Tibério e Caio \\nGraco. Note que eles seguram um papel, que \\nsimboliza suas propostas –interrompidas \\npela morte violenta que sofreram.•Ocorreram, também, \\ndiversas revoltas de \\nescravos em Roma. Eles \\nlutavam por melhores \\ncondições de vida ou por \\nsua liberdade.\\n•A maior rebelião foi \\nliderada pelo escravo \\nEspártaco , que chegou a \\nformar um exército de 60 \\nmil homens, mas acabou \\nderrotado e morto pelas \\ntropas romanas.\\n Representação de Espártaco , líder da mais \\nfamosa rebelião de escravos sofrida por \\nRoma•O exército se fortaleceu pelas conquistas \\nexternas e o combate às revoltas internas. \\nTrês generais –Crasso, Pompeu e Júlio César, o \\nchamado Triunvirato –passaram a governar \\nRoma em conjunto, se tornando mais \\npoderosos que o Senado.\\n•Júlio César derrotou os outros dois e \\nconcentrou o poder em suas mãos, tornando -\\nse ditador vitalício de Roma. Tendo perdido \\npoder, o Senado conspirou para que César \\nfosse assassinado.Representação do assassinato de Júlio César, \\nque aparece caído no chão em roupas \\ncoloridas, sendo atacado pelos conspiradores \\nno Senado romano•Com a morte de César, um novo triunvirato foi \\nformado –incluindo seu filho adotivo, Marco \\nAntônio.\\n•Após uma sangrenta guerra civil, Marco \\nAntônio assume todo o poder e é proclamado \\nImperador de Roma . Assim, o Senado perde \\nimportância, e se encerra a fase republicana \\nda História de Roma. Tem início o Império .Guerras PúnicasVitória romana\\nRoma se torna a maior potência do \\nMediterrâneo\\nInício do expansionismo romano\\nEconomia se torna comercial\\nNúmero de escravos aumenta \\nvertiginosamente\\nAscensão social de determinados \\nplebeus e comandantes militaresInstabilidade política\\nDesemprego; Concentração de terras \\ne riquezas\\nRebeliões de escravos ( Espártaco )\\nChegada de militares ao poder\\n-Triunvirato\\n-Júlio César\\n-Marco Antônio IMPÉRIOO IMPÉRIO (27 a.C. a 476 d.C.)\\nBaixo Império (Séculos I a.C. a III d.C.)\\nAlto Império (Séculos III a V d.C.)O ALTO IMPÉRIO (SÉCULOS I a.C. a III d.C.)\\n•Período de máxima extensão territorial. Roma \\ndominava quase toda a Europa, o norte da \\nÁfrica e partes do Oriente Médio.\\n•Construção ou crescimento de cidades por \\ntodo o Império (ou seja, urbanização), \\ncontando com sistemas de abastecimento de \\nágua, esgotos, termas e ricos prédios públicos .•Política de “ pão e \\ncirco ”: nobreza realizava \\nfestivais, concedia \\nferiados e distribuía \\nalimentos para manter \\na população calma e \\nobediente.\\n•Pax Romana (“Paz \\nRomana”): Período de \\ntranquilidade, com o \\nfim das guerras internas \\ne a desaceleração dos \\nconflitos externos.\\nDurante os festivais promovidos pela elite \\npara o povo, uma das principais atrações \\neram os combates de gladiadores. Aqui, \\nvemos um cartaz convidando o público para \\no espetáculo violento.O BAIXO IMPÉRIO (SÉCULOS III d.C. a V d.C.)\\n•Período de crise em que o Império Romano \\ncomeça a enfrentar grandes dificuldades\\n–Economia: Fim das guerras de expansão faz \\nreduzir o número de escravos (menos prisioneiros \\n= menos escravos), causando uma crise na \\nprodução agrícola.\\n–Política: Começam contínuas disputas pelo poder \\nem Roma. Diversos Imperadores foram depostos \\nou assassinados, e as disputas trouxeram o caos à \\npolítica romana.•Do ponto de vista administrativo, o Império havia \\nconquistado um território tão grande que era difícil \\ngovernar e manter a ordem nas províncias. Em locais \\ndistantes da capital, governantes locais começaram a \\nmandar mais que o próprio imperador.\\n•Além disso, cada vez mais bárbaros (os romanos \\nconsideravam bárbaros todos aqueles povos que não \\nfalavam latim, nem seguiam os hábitos romanos) \\ncomeçaram a entrar no Império, de duas formas:\\n–Alguns vinham pacificamente, através de acordos. Podiam \\nviver nas terras romanas, e mesmo servir ao exército \\nromano.\\n–Outros adentravam o território através de violentos \\nataques, que destruíam e saqueavam cidades romanas.A QUEDA DE ROMA\\n•Com o passar do tempo, os problemas se \\ntornaram insustentáveis. O exército romano já \\nnão conseguia mais conter as invasões bárbaras , \\ne o Império se empobrecia.\\n•Em 284 d.C., na tentativa de amenizar o \\nproblema, o Império foi dividido em duas partes \\n–o Império Romano do Ocidente , com capital \\nem Roma, e o Império Romano do Oriente , \\nsediado em Constantinopla.Divisão do Império Romano. Note as duas \\ncapitais –Roma e Constantinopla•A divisão, contudo, não foi suficiente para conter \\na crise do Império.\\n•Os constantes ataques bárbaros, em especial dos \\npovos germanos, hunos e celtas, enfraqueceu o \\nImpério.\\n•No ano de 476 d.C. a própria cidade de Roma foi \\natacada e saqueada, e o Imperador do Ocidente \\nfoi deposto . Foi o fim do Império Romano do \\nOcidente –e da Idade Antiga, tendo início o longo \\nperíodo da história europeia conhecido como \\nIdade Média .',\n",
       "   'filename': './src/documents/Roma Antiga.pdf'}}]"
      ]
     },
     "execution_count": 2,
     "metadata": {},
     "output_type": "execute_result"
    }
   ],
   "source": [
    "resultado"
   ]
  },
  {
   "cell_type": "markdown",
   "metadata": {},
   "source": [
    "## Cleaner Text"
   ]
  },
  {
   "cell_type": "code",
   "execution_count": 3,
   "metadata": {},
   "outputs": [
    {
     "name": "stdout",
     "output_type": "stream",
     "text": [
      "[{'id': '0XeLRkpJQxFh', 'metadata': {'embedding': 'none por enquanto', 'text': 'ROMA ANTIGA Prof. João RochaLINHA DO TEMPO 753 a.C. 509 a.C. 27 a.C. 476 d.C. MONARQUIA  Fundação de Roma  Domínio Etrusco  Conflitos plebeus patrícios  Formação das estruturas sociais e políticas romanasREPÚBLICA  Predomínio do Senado  Guerras Púnicas  Expansionismo militar  Roma como superpotência  Revoltas de escravosIMPÉRIO  Auge da dominação romana  PaxRomana  Problemas fronteiriços com bárbaros  Divisão do Império  Queda de Roma a.C. d.C.FORMAÇÃO APenínsula Itálica foiocupada por diversos povos, a partir doséculo XIa.C.Amistura destes povos levou à configuração étnica ecultural deRoma . POVO LOCAL CONTRIBUIÇÕES PRINCIPAIS Etruscos Norte da Península ItálicaMilitarismo Urbanização Italiotas latinos, sabinos, etc.Região central da Península ItálicaIdioma Gregos Sul da Península Itálica  Magna Graecia Arquitetura Religião Sistema políticoRoma foi fundada em 753 a.C., a partir da união de diferentes aldeias agropastoris, motivada pela invasão etrusca da região. Os etruscos centralizaram o governo, ampliaram a população e promoveram obras importantes, como drenagem de pântanos, construção de pontes e da primeira muralha da cidade.Mito de Rômulo e Remo  explicação tradicional sobre a origem do povo romano A MONARQUIA 753 509 a.C.A MONARQUIA 753 509 a.C. Rei compartilhava o poder com o Senado e uma Assembleia. O Senado do latim senex , velho era composto por patrícios com mais de 45 anos. Com o passar do tempo, se tornou a principal instituição romana. A Assembleia era um conselho militar formado por jovens líderes guerreiros, que decidiam sobre a guerra ou paz. Disputas de poder contínuas entre etruscos e os povos locais. Reis passam a conceder benefícios à população comum à revelia do Senado, concentrando poder em suas mãos.Representação do Senado romano em funcionamentoESTRUTURA SOCIAL ROMANA Patrícios Elite, composta por grandes proprietários rurais. Plebeus Maioria da população romana, composta de camponeses, artesãos e comerciantes livres Clientes Indivíduos livres, às vezes estrangeiros, que prestavam serviços diretos aos Patrícios em troca de benefícios Escravos Oriundos de guerras, ou cativos por dívidasTemendo perder importância, os patrícios romanos depuseram o último rei romano, Tarquínio, e implantaram um novo sistema de governo, inspirado no modelo grego a República . O Senado assume o comando político, e se torna o principal órgão romano. RES PVBLICAE  coisa pública, administração coletiva e transparente Senatvs Popvlvsqve Romanvs Senado e o Povo RomanoA REPÚBLICA 509 A 27 a.C.A REPÚBLICA 509 a 27 a.C. A república manteve os privilégios da elite, porém reorganizou o sistema político. O resultado foi uma intensificação dos conflitos sociais, com a plebe e os escravos pressionando o patriciado por reformas e melhores condições de vida. Plebeus recusavam se a trabalhar nos campos, a servir o exército, e ameaçaram fundar uma cidade própria caso as negociações não avançassem.SENADO Expandido para 300 membros. Tomava as decisões finais sobre guerra, impostos e leis. ASSEMBLEIAS Assembleia das tribos Assembleia da plebe Assembleia centuriataMAGISTRATURAS Pretores Justiça Censores Estatística e presidência do Senado Edis Organização urbana Questor Coleta de impostosCONSULADO Dois cônsules eleitos pelos magistrados para mandatos de apenas um ano. Um dos cônsules cuidava da administração pública, e outro do exército.AS CONQUISTAS DA PLEBE Após muitas lutas, recusando se a trabalhar e a lutar nas guerras, os plebeus foram conquistando uma série de direitos O fim da escravidão por dívidas A permissão do casamento entre plebeus e patrícios A criação de uma magistratura para a plebe o Tribuno da Plebe, que poderia vetar decisões do Senado consideradas ruins para os plebeus O acesso dos plebeus ao cargo de sacerdotes A obrigatoriedade da escolha de um Cônsul plebeu O primeiro código escrito de leis romanas, em 450 a.C. a Lei das Doze Tábuas , que garantia igualdade jurídica a todos os homens livres teoricamente.SENADO Expandido para 300 membros. Tomava as decisões finais sobre guerra, impostos e leis. Acesso dos plebeus ASSEMBLEIAS Assembleia das tribos Assembleia da plebe ganha maior importância Assembleia centuriataMAGISTRATURAS Pretores Justiça Censores Estatística e presidência do Senado Edis Organização urbana Questor Coleta de impostos Tribuno da PlebeCONSULADO Cônsul Patrício e Cônsul PlebeuCópia da Lei das Doze Tábuas, em placas de bronzeAS GUERRAS PÚNICAS 264 a 146 a.C. Três guerras entre Roma, uma potência em ascensão, e Cartago, que dominava o comércio no Mediterâneo . 1ª Guerra Púnica Vitória romana. Roma anexa as ilhas da Córsega, Sardenha e Sicília. 2ª Guerra Púnica O general cartaginês Aníbal tenta atacar Roma pelo norte, cruzando os Alpes. Nova vitória romana. Roma anexa o território cartaginês na Península Ibérica. 3ª Guerra Púnica Roma destrói Cartago e vende sua população como escravos.Tropas de Aníbal marcham pelos Alpes para atacar RomaRepresentação da cidade de Cartago . Note as muralhas que protegem a cidade, e seu enorme porto circular fortificado.CONSEQUÊNCIAS DAS GUERRAS PÚNICAS Destruição de Cartago Roma se transforma na principal potência do Mediterrâneo Início do expansionismo militar romano. Em poucos séculos, Roma iria conquistar a Grécia, o Egito, a Síria e quase todo o entorno do Mediterrâneo. Economia romana deixa de ser apenas agropastoril e passa a ter um enfoque comercial.O EXPANSIONISMO ROMANO A entrada de novas riquezas e a profissionalização do exército romano levaram à conquista de muitos territórios. Roma dominou grande parte da Europa e do entorno do Mediterrâneo, ainda durante a República. Mapa da evolução territorial romana desde o início da República. Os números mostram as datas valores negativos estão antes de CristoA conquista de novos territórios transformou Roma em diversos aspectos. A economia romana, antes agrícola e pastoril passou a ser essencialmente comercial. Os comandantes militares, responsáveis pelas conquistas romanas, adquiriram cada vez mais poder. Eles eram responsáveis por distribuir parte das terras e riquezas entre seus soldados e, por isso, recebiam grande obediência. Muitos plebeus enriqueceram com o expansionismo, passando a fornecer produtos alimentos, armas e serviços construção de estradas e pontes ao Estado romano. Tornaram se u grupo social cada vez ais importante a nobreza .Os romanos apelidaram o Mediterrâneo de mare nostrvm nosso mar, demonstrando seu poder. Roma viveu um crescimento acelerado no número de escravos, capturados em suas guerras de conquista. Com escravos desempenhando grande parte das atividades econômicas, sobrou pouco espaço para a maioria dos integrantes da plebe. Muitos plebeus se viram obrigados a abandonar o campo e partir para a cidade em busca de sobrevivência Êxodo ruralLUTAS INTERNAS Com a desigualdade social aumentando e o desemprego, especialmente no campo, surgiram propostas de reforma agrária ou seja, de uma redistribuição das terras de Roma. Os maiores defensores dessa ideia foram os irmãos Tibério e Caio Graco . Eleitos tribunos da plebe, propuseram a reforma e a distribuição de alimentos aos romanos pobres. Sofreram forte oposição do patriciado, e acabaram mortos  Tibério assassinado e Caio forçado a se suicidar.Representação dos irmãos Tibério e Caio Graco. Note que eles seguram um papel, que simboliza suas propostas interrompidas pela morte violenta que sofreram.Ocorreram, também, diversas revoltas de escravos em Roma. Eles lutavam por melhores condições de vida ou por sua liberdade. A maior rebelião foi liderada pelo escravo Espártaco , que chegou a formar um exército de 60 mil homens, mas acabou derrotado e morto pelas tropas romanas. Representação de Espártaco , líder da mais famosa rebelião de escravos sofrida por RomaO exército se fortaleceu pelas conquistas externas e o combate às revoltas internas. Três generais Crasso, Pompeu e Júlio César, o chamado Triunvirato passaram a governar Roma em conjunto, se tornando mais poderosos que o Senado. Júlio César derrotou os outros dois e concentrou o poder em suas mãos, tornando  se ditador vitalício de Roma. Tendo perdido poder, o Senado conspirou para que César fosse assassinado.Representação do assassinato de Júlio César, que aparece caído no chão em roupas coloridas, sendo atacado pelos conspiradores no Senado romanoCom a morte de César, um novo triunvirato foi formado incluindo seu filho adotivo, Marco Antônio. Após uma sangrenta guerra civil, Marco Antônio assume todo o poder e é proclamado Imperador de Roma . Assim, o Senado perde importância, e se encerra a fase republicana da História de Roma. Tem início o Império .Guerras PúnicasVitória romana Roma se torna a maior potência do Mediterrâneo Início do expansionismo romano Economia se torna comercial Número de escravos aumenta vertiginosamente Ascensão social de determinados plebeus e comandantes militaresInstabilidade política Desemprego Concentração de terras e riquezas Rebeliões de escravos  Espártaco  Chegada de militares ao poder Triunvirato Júlio César Marco Antônio IMPÉRIOO IMPÉRIO 27 a.C. a 476 d.C. Baixo Império Séculos I a.C. a III d.C. Alto Império Séculos III a V d.C.O ALTO IMPÉRIO SÉCULOS I a.C. a III d.C. Período de máxima extensão territorial. Roma dominava quase toda a Europa, o norte da África e partes do Oriente Médio. Construção ou crescimento de cidades por todo o Império ou seja, urbanização, contando com sistemas de abastecimento de água, esgotos, termas e ricos prédios públicos .Política de  pão e circo  nobreza realizava festivais, concedia feriados e distribuía alimentos para manter a população calma e obediente. Pax Romana Paz Romana Período de tranquilidade, com o fim das guerras internas e a desaceleração dos conflitos externos. Durante os festivais promovidos pela elite para o povo, uma das principais atrações eram os combates de gladiadores. Aqui, vemos um cartaz convidando o público para o espetáculo violento.O BAIXO IMPÉRIO SÉCULOS III d.C. a V d.C. Período de crise em que o Império Romano começa a enfrentar grandes dificuldades Economia Fim das guerras de expansão faz reduzir o número de escravos menos prisioneiros  menos escravos, causando uma crise na produção agrícola. Política Começam contínuas disputas pelo poder em Roma. Diversos Imperadores foram depostos ou assassinados, e as disputas trouxeram o caos à política romana.Do ponto de vista administrativo, o Império havia conquistado um território tão grande que era difícil governar e manter a ordem nas províncias. Em locais distantes da capital, governantes locais começaram a mandar mais que o próprio imperador. Além disso, cada vez mais bárbaros os romanos consideravam bárbaros todos aqueles povos que não falavam latim, nem seguiam os hábitos romanos começaram a entrar no Império, de duas formas Alguns vinham pacificamente, através de acordos. Podiam viver nas terras romanas, e mesmo servir ao exército romano. Outros adentravam o território através de violentos ataques, que destruíam e saqueavam cidades romanas.A QUEDA DE ROMA Com o passar do tempo, os problemas se tornaram insustentáveis. O exército romano já não conseguia mais conter as invasões bárbaras , e o Império se empobrecia. Em 284 d.C., na tentativa de amenizar o problema, o Império foi dividido em duas partes o Império Romano do Ocidente , com capital em Roma, e o Império Romano do Oriente , sediado em Constantinopla.Divisão do Império Romano. Note as duas capitais Roma e ConstantinoplaA divisão, contudo, não foi suficiente para conter a crise do Império. Os constantes ataques bárbaros, em especial dos povos germanos, hunos e celtas, enfraqueceu o Império. No ano de 476 d.C. a própria cidade de Roma foi atacada e saqueada, e o Imperador do Ocidente foi deposto . Foi o fim do Império Romano do Ocidente e da Idade Antiga, tendo início o longo período da história europeia conhecido como Idade Média .', 'filename': './src/documents/Roma Antiga.pdf'}}]\n"
     ]
    }
   ],
   "source": [
    "from src.general.CleanerText.clean_text import TextCleaner\n",
    "\n",
    "text_cleaner = TextCleaner(resultado)\n",
    "cleaned_data = text_cleaner.clean_structure()\n",
    "print(cleaned_data)"
   ]
  },
  {
   "cell_type": "code",
   "execution_count": 4,
   "metadata": {},
   "outputs": [
    {
     "data": {
      "text/plain": [
       "[{'id': '0XeLRkpJQxFh',\n",
       "  'metadata': {'embedding': 'none por enquanto',\n",
       "   'text': 'ROMA ANTIGA Prof. João RochaLINHA DO TEMPO 753 a.C. 509 a.C. 27 a.C. 476 d.C. MONARQUIA  Fundação de Roma  Domínio Etrusco  Conflitos plebeus patrícios  Formação das estruturas sociais e políticas romanasREPÚBLICA  Predomínio do Senado  Guerras Púnicas  Expansionismo militar  Roma como superpotência  Revoltas de escravosIMPÉRIO  Auge da dominação romana  PaxRomana  Problemas fronteiriços com bárbaros  Divisão do Império  Queda de Roma a.C. d.C.FORMAÇÃO APenínsula Itálica foiocupada por diversos povos, a partir doséculo XIa.C.Amistura destes povos levou à configuração étnica ecultural deRoma . POVO LOCAL CONTRIBUIÇÕES PRINCIPAIS Etruscos Norte da Península ItálicaMilitarismo Urbanização Italiotas latinos, sabinos, etc.Região central da Península ItálicaIdioma Gregos Sul da Península Itálica  Magna Graecia Arquitetura Religião Sistema políticoRoma foi fundada em 753 a.C., a partir da união de diferentes aldeias agropastoris, motivada pela invasão etrusca da região. Os etruscos centralizaram o governo, ampliaram a população e promoveram obras importantes, como drenagem de pântanos, construção de pontes e da primeira muralha da cidade.Mito de Rômulo e Remo  explicação tradicional sobre a origem do povo romano A MONARQUIA 753 509 a.C.A MONARQUIA 753 509 a.C. Rei compartilhava o poder com o Senado e uma Assembleia. O Senado do latim senex , velho era composto por patrícios com mais de 45 anos. Com o passar do tempo, se tornou a principal instituição romana. A Assembleia era um conselho militar formado por jovens líderes guerreiros, que decidiam sobre a guerra ou paz. Disputas de poder contínuas entre etruscos e os povos locais. Reis passam a conceder benefícios à população comum à revelia do Senado, concentrando poder em suas mãos.Representação do Senado romano em funcionamentoESTRUTURA SOCIAL ROMANA Patrícios Elite, composta por grandes proprietários rurais. Plebeus Maioria da população romana, composta de camponeses, artesãos e comerciantes livres Clientes Indivíduos livres, às vezes estrangeiros, que prestavam serviços diretos aos Patrícios em troca de benefícios Escravos Oriundos de guerras, ou cativos por dívidasTemendo perder importância, os patrícios romanos depuseram o último rei romano, Tarquínio, e implantaram um novo sistema de governo, inspirado no modelo grego a República . O Senado assume o comando político, e se torna o principal órgão romano. RES PVBLICAE  coisa pública, administração coletiva e transparente Senatvs Popvlvsqve Romanvs Senado e o Povo RomanoA REPÚBLICA 509 A 27 a.C.A REPÚBLICA 509 a 27 a.C. A república manteve os privilégios da elite, porém reorganizou o sistema político. O resultado foi uma intensificação dos conflitos sociais, com a plebe e os escravos pressionando o patriciado por reformas e melhores condições de vida. Plebeus recusavam se a trabalhar nos campos, a servir o exército, e ameaçaram fundar uma cidade própria caso as negociações não avançassem.SENADO Expandido para 300 membros. Tomava as decisões finais sobre guerra, impostos e leis. ASSEMBLEIAS Assembleia das tribos Assembleia da plebe Assembleia centuriataMAGISTRATURAS Pretores Justiça Censores Estatística e presidência do Senado Edis Organização urbana Questor Coleta de impostosCONSULADO Dois cônsules eleitos pelos magistrados para mandatos de apenas um ano. Um dos cônsules cuidava da administração pública, e outro do exército.AS CONQUISTAS DA PLEBE Após muitas lutas, recusando se a trabalhar e a lutar nas guerras, os plebeus foram conquistando uma série de direitos O fim da escravidão por dívidas A permissão do casamento entre plebeus e patrícios A criação de uma magistratura para a plebe o Tribuno da Plebe, que poderia vetar decisões do Senado consideradas ruins para os plebeus O acesso dos plebeus ao cargo de sacerdotes A obrigatoriedade da escolha de um Cônsul plebeu O primeiro código escrito de leis romanas, em 450 a.C. a Lei das Doze Tábuas , que garantia igualdade jurídica a todos os homens livres teoricamente.SENADO Expandido para 300 membros. Tomava as decisões finais sobre guerra, impostos e leis. Acesso dos plebeus ASSEMBLEIAS Assembleia das tribos Assembleia da plebe ganha maior importância Assembleia centuriataMAGISTRATURAS Pretores Justiça Censores Estatística e presidência do Senado Edis Organização urbana Questor Coleta de impostos Tribuno da PlebeCONSULADO Cônsul Patrício e Cônsul PlebeuCópia da Lei das Doze Tábuas, em placas de bronzeAS GUERRAS PÚNICAS 264 a 146 a.C. Três guerras entre Roma, uma potência em ascensão, e Cartago, que dominava o comércio no Mediterâneo . 1ª Guerra Púnica Vitória romana. Roma anexa as ilhas da Córsega, Sardenha e Sicília. 2ª Guerra Púnica O general cartaginês Aníbal tenta atacar Roma pelo norte, cruzando os Alpes. Nova vitória romana. Roma anexa o território cartaginês na Península Ibérica. 3ª Guerra Púnica Roma destrói Cartago e vende sua população como escravos.Tropas de Aníbal marcham pelos Alpes para atacar RomaRepresentação da cidade de Cartago . Note as muralhas que protegem a cidade, e seu enorme porto circular fortificado.CONSEQUÊNCIAS DAS GUERRAS PÚNICAS Destruição de Cartago Roma se transforma na principal potência do Mediterrâneo Início do expansionismo militar romano. Em poucos séculos, Roma iria conquistar a Grécia, o Egito, a Síria e quase todo o entorno do Mediterrâneo. Economia romana deixa de ser apenas agropastoril e passa a ter um enfoque comercial.O EXPANSIONISMO ROMANO A entrada de novas riquezas e a profissionalização do exército romano levaram à conquista de muitos territórios. Roma dominou grande parte da Europa e do entorno do Mediterrâneo, ainda durante a República. Mapa da evolução territorial romana desde o início da República. Os números mostram as datas valores negativos estão antes de CristoA conquista de novos territórios transformou Roma em diversos aspectos. A economia romana, antes agrícola e pastoril passou a ser essencialmente comercial. Os comandantes militares, responsáveis pelas conquistas romanas, adquiriram cada vez mais poder. Eles eram responsáveis por distribuir parte das terras e riquezas entre seus soldados e, por isso, recebiam grande obediência. Muitos plebeus enriqueceram com o expansionismo, passando a fornecer produtos alimentos, armas e serviços construção de estradas e pontes ao Estado romano. Tornaram se u grupo social cada vez ais importante a nobreza .Os romanos apelidaram o Mediterrâneo de mare nostrvm nosso mar, demonstrando seu poder. Roma viveu um crescimento acelerado no número de escravos, capturados em suas guerras de conquista. Com escravos desempenhando grande parte das atividades econômicas, sobrou pouco espaço para a maioria dos integrantes da plebe. Muitos plebeus se viram obrigados a abandonar o campo e partir para a cidade em busca de sobrevivência Êxodo ruralLUTAS INTERNAS Com a desigualdade social aumentando e o desemprego, especialmente no campo, surgiram propostas de reforma agrária ou seja, de uma redistribuição das terras de Roma. Os maiores defensores dessa ideia foram os irmãos Tibério e Caio Graco . Eleitos tribunos da plebe, propuseram a reforma e a distribuição de alimentos aos romanos pobres. Sofreram forte oposição do patriciado, e acabaram mortos  Tibério assassinado e Caio forçado a se suicidar.Representação dos irmãos Tibério e Caio Graco. Note que eles seguram um papel, que simboliza suas propostas interrompidas pela morte violenta que sofreram.Ocorreram, também, diversas revoltas de escravos em Roma. Eles lutavam por melhores condições de vida ou por sua liberdade. A maior rebelião foi liderada pelo escravo Espártaco , que chegou a formar um exército de 60 mil homens, mas acabou derrotado e morto pelas tropas romanas. Representação de Espártaco , líder da mais famosa rebelião de escravos sofrida por RomaO exército se fortaleceu pelas conquistas externas e o combate às revoltas internas. Três generais Crasso, Pompeu e Júlio César, o chamado Triunvirato passaram a governar Roma em conjunto, se tornando mais poderosos que o Senado. Júlio César derrotou os outros dois e concentrou o poder em suas mãos, tornando  se ditador vitalício de Roma. Tendo perdido poder, o Senado conspirou para que César fosse assassinado.Representação do assassinato de Júlio César, que aparece caído no chão em roupas coloridas, sendo atacado pelos conspiradores no Senado romanoCom a morte de César, um novo triunvirato foi formado incluindo seu filho adotivo, Marco Antônio. Após uma sangrenta guerra civil, Marco Antônio assume todo o poder e é proclamado Imperador de Roma . Assim, o Senado perde importância, e se encerra a fase republicana da História de Roma. Tem início o Império .Guerras PúnicasVitória romana Roma se torna a maior potência do Mediterrâneo Início do expansionismo romano Economia se torna comercial Número de escravos aumenta vertiginosamente Ascensão social de determinados plebeus e comandantes militaresInstabilidade política Desemprego Concentração de terras e riquezas Rebeliões de escravos  Espártaco  Chegada de militares ao poder Triunvirato Júlio César Marco Antônio IMPÉRIOO IMPÉRIO 27 a.C. a 476 d.C. Baixo Império Séculos I a.C. a III d.C. Alto Império Séculos III a V d.C.O ALTO IMPÉRIO SÉCULOS I a.C. a III d.C. Período de máxima extensão territorial. Roma dominava quase toda a Europa, o norte da África e partes do Oriente Médio. Construção ou crescimento de cidades por todo o Império ou seja, urbanização, contando com sistemas de abastecimento de água, esgotos, termas e ricos prédios públicos .Política de  pão e circo  nobreza realizava festivais, concedia feriados e distribuía alimentos para manter a população calma e obediente. Pax Romana Paz Romana Período de tranquilidade, com o fim das guerras internas e a desaceleração dos conflitos externos. Durante os festivais promovidos pela elite para o povo, uma das principais atrações eram os combates de gladiadores. Aqui, vemos um cartaz convidando o público para o espetáculo violento.O BAIXO IMPÉRIO SÉCULOS III d.C. a V d.C. Período de crise em que o Império Romano começa a enfrentar grandes dificuldades Economia Fim das guerras de expansão faz reduzir o número de escravos menos prisioneiros  menos escravos, causando uma crise na produção agrícola. Política Começam contínuas disputas pelo poder em Roma. Diversos Imperadores foram depostos ou assassinados, e as disputas trouxeram o caos à política romana.Do ponto de vista administrativo, o Império havia conquistado um território tão grande que era difícil governar e manter a ordem nas províncias. Em locais distantes da capital, governantes locais começaram a mandar mais que o próprio imperador. Além disso, cada vez mais bárbaros os romanos consideravam bárbaros todos aqueles povos que não falavam latim, nem seguiam os hábitos romanos começaram a entrar no Império, de duas formas Alguns vinham pacificamente, através de acordos. Podiam viver nas terras romanas, e mesmo servir ao exército romano. Outros adentravam o território através de violentos ataques, que destruíam e saqueavam cidades romanas.A QUEDA DE ROMA Com o passar do tempo, os problemas se tornaram insustentáveis. O exército romano já não conseguia mais conter as invasões bárbaras , e o Império se empobrecia. Em 284 d.C., na tentativa de amenizar o problema, o Império foi dividido em duas partes o Império Romano do Ocidente , com capital em Roma, e o Império Romano do Oriente , sediado em Constantinopla.Divisão do Império Romano. Note as duas capitais Roma e ConstantinoplaA divisão, contudo, não foi suficiente para conter a crise do Império. Os constantes ataques bárbaros, em especial dos povos germanos, hunos e celtas, enfraqueceu o Império. No ano de 476 d.C. a própria cidade de Roma foi atacada e saqueada, e o Imperador do Ocidente foi deposto . Foi o fim do Império Romano do Ocidente e da Idade Antiga, tendo início o longo período da história europeia conhecido como Idade Média .',\n",
       "   'filename': './src/documents/Roma Antiga.pdf'}}]"
      ]
     },
     "execution_count": 4,
     "metadata": {},
     "output_type": "execute_result"
    }
   ],
   "source": [
    "cleaned_data"
   ]
  },
  {
   "cell_type": "markdown",
   "metadata": {},
   "source": [
    "## ChunkText"
   ]
  },
  {
   "cell_type": "code",
   "execution_count": 7,
   "metadata": {},
   "outputs": [
    {
     "name": "stdout",
     "output_type": "stream",
     "text": [
      "{'id': 'zXvKDGas0zKR', 'metadata': {'embedding': 'none por enquanto', 'text': 'ROMA ANTIGA Prof. João RochaLINHA DO TEMPO 753 a.C. 509 a.C. 27 a.C. 476 d.C. MONARQUIA Fundação de ', 'filename': './src/documents/Roma Antiga.pdf'}}\n",
      "{'id': '8S7fe0kzyeKl', 'metadata': {'embedding': 'none por enquanto', 'text': 'NARQUIA Fundação de Roma Domínio Etrusco Conflitos plebeus patrícios Formação das estruturas sociais', 'filename': './src/documents/Roma Antiga.pdf'}}\n",
      "{'id': '3almIzx9PlLi', 'metadata': {'embedding': 'none por enquanto', 'text': 's estruturas sociais e políticas romanasREPÚBLICA Predomínio do Senado Guerras Púnicas Expansionismo', 'filename': './src/documents/Roma Antiga.pdf'}}\n",
      "{'id': 'WfN602eZcLll', 'metadata': {'embedding': 'none por enquanto', 'text': 'únicas Expansionismo militar Roma como superpotência Revoltas de escravosIMPÉRIO Auge da dominação r', 'filename': './src/documents/Roma Antiga.pdf'}}\n",
      "{'id': 'cENw92T8BEAl', 'metadata': {'embedding': 'none por enquanto', 'text': ' Auge da dominação romana PaxRomana Problemas fronteiriços com bárbaros Divisão do Império Queda de ', 'filename': './src/documents/Roma Antiga.pdf'}}\n",
      "{'id': '7yxp3zNJJQjh', 'metadata': {'embedding': 'none por enquanto', 'text': 'do Império Queda de Roma a.C. d.C.FORMAÇÃO APenínsula Itálica foi ocupada por a .', 'filename': './src/documents/Roma Antiga.pdf'}}\n",
      "{'id': '4RqmUnxDwLf7', 'metadata': {'embedding': 'none por enquanto', 'text': '.', 'filename': './src/documents/Roma Antiga.pdf'}}\n",
      "{'id': '0lFIkSnvqsyf', 'metadata': {'embedding': 'none por enquanto', 'text': 'ROMA ANTIGA Prof. João RochaLINHA DO TEMPO 753 a.C. 509 a.C. 27 a.C. 476 d.C. MONARQUIA  Fundação de Roma  Domínio Etrusco  Conflitos plebeus patrícios  Formação das estruturas sociais e políticas romanasREPÚBLICA  Predomínio do Senado  Guerras Púnicas  Expansionismo militar  Roma como superpotência  Revoltas de escravosIMPÉRIO  Auge da dominação romana  PaxRomana  Problemas fronteiriços com bárbaros  Divisão do Império  Queda de Roma a.C. d.C.FORMAÇÃO APenínsula Itálica foiocupada por diversos povos, a partir doséculo XIa.C.Amistura destes povos levou à configuração étnica ecultural deRoma . ', 'filename': './src/documents/Roma Antiga.pdf'}}\n",
      "{'id': 'pduHcKhu8YHy', 'metadata': {'embedding': 'none por enquanto', 'text': 'ros  Divisão do Império  Queda de Roma a.C. d.C.FORMAÇÃO APenínsula Itálica foiocupada por diversos povos, a partir doséculo XIa.C.Amistura destes povos levou à configuração étnica ecultural deRoma . POVO LOCAL CONTRIBUIÇÕES PRINCIPAIS Etruscos Norte da Península ItálicaMilitarismo Urbanização Italiotas latinos, sabinos, etc.Região central da Península ItálicaIdioma Gregos Sul da Península Itálica  Magna Graecia Arquitetura Religião Sistema políticoRoma foi fundada em 753 a.C., a partir da união de diferentes aldeias agropastoris, motivada pela invasão etrusca da região. Os etruscos centraliza', 'filename': './src/documents/Roma Antiga.pdf'}}\n",
      "{'id': 'zElj8HaVykOo', 'metadata': {'embedding': 'none por enquanto', 'text': '  Magna Graecia Arquitetura Religião Sistema políticoRoma foi fundada em 753 a.C., a partir da união de diferentes aldeias agropastoris, motivada pela invasão etrusca da região. Os etruscos centralizaram o governo, ampliaram a população e promoveram obras importantes, como drenagem de pântanos, construção de pontes e da primeira muralha da cidade.Mito de Rômulo e Remo  explicação tradicional sobre a origem do povo romano A MONARQUIA 753 509 a.C.A MONARQUIA 753 509 a.C. Rei compartilhava o poder com o Senado e uma Assembleia. O Senado do latim senex , velho era composto por patrícios com mais d', 'filename': './src/documents/Roma Antiga.pdf'}}\n",
      "{'id': 'EPtAgaN9dFnA', 'metadata': {'embedding': 'none por enquanto', 'text': ' a origem do povo romano A MONARQUIA 753 509 a.C.A MONARQUIA 753 509 a.C. Rei compartilhava o poder com o Senado e uma Assembleia. O Senado do latim senex , velho era composto por patrícios com mais de 45 anos. Com o passar do tempo, se tornou a principal instituição romana. A Assembleia era um conselho militar formado por jovens líderes guerreiros, que decidiam sobre a guerra ou paz. Disputas de poder contínuas entre etruscos e os povos locais. Reis passam a conceder benefícios à população comum à revelia do Senado, concentrando poder em suas mãos.Representação do Senado romano em funcionamen', 'filename': './src/documents/Roma Antiga.pdf'}}\n",
      "{'id': 'aJ4OwnzU4NjL', 'metadata': {'embedding': 'none por enquanto', 'text': 'poder contínuas entre etruscos e os povos locais. Reis passam a conceder benefícios à população comum à revelia do Senado, concentrando poder em suas mãos.Representação do Senado romano em funcionamentoESTRUTURA SOCIAL ROMANA Patrícios Elite, composta por grandes proprietários rurais. Plebeus Maioria da população romana, composta de camponeses, artesãos e comerciantes livres Clientes Indivíduos livres, às vezes estrangeiros, que prestavam serviços diretos aos Patrícios em troca de benefícios Escravos Oriundos de guerras, ou cativos por dívidasTemendo perder importância, os patrícios romanos de', 'filename': './src/documents/Roma Antiga.pdf'}}\n",
      "{'id': 'Z3iiXIUpH11c', 'metadata': {'embedding': 'none por enquanto', 'text': 'vres, às vezes estrangeiros, que prestavam serviços diretos aos Patrícios em troca de benefícios Escravos Oriundos de guerras, ou cativos por dívidasTemendo perder importância, os patrícios romanos depuseram o último rei romano, Tarquínio, e implantaram um novo sistema de governo, inspirado no modelo grego a República . O Senado assume o comando político, e se torna o principal órgão romano. RES PVBLICAE  coisa pública, administração coletiva e transparente Senatvs Popvlvsqve Romanvs Senado e o Povo RomanoA REPÚBLICA 509 A 27 a.C.A REPÚBLICA 509 a 27 a.C. A república manteve os privilégios da ', 'filename': './src/documents/Roma Antiga.pdf'}}\n",
      "{'id': '6nCFWRmMgC7d', 'metadata': {'embedding': 'none por enquanto', 'text': 'VBLICAE  coisa pública, administração coletiva e transparente Senatvs Popvlvsqve Romanvs Senado e o Povo RomanoA REPÚBLICA 509 A 27 a.C.A REPÚBLICA 509 a 27 a.C. A república manteve os privilégios da elite, porém reorganizou o sistema político. O resultado foi uma intensificação dos conflitos sociais, com a plebe e os escravos pressionando o patriciado por reformas e melhores condições de vida. Plebeus recusavam se a trabalhar nos campos, a servir o exército, e ameaçaram fundar uma cidade própria caso as negociações não avançassem.SENADO Expandido para 300 membros. Tomava as decisões finais so', 'filename': './src/documents/Roma Antiga.pdf'}}\n",
      "{'id': 'n4OKrDoXW6Sv', 'metadata': {'embedding': 'none por enquanto', 'text': 'ebeus recusavam se a trabalhar nos campos, a servir o exército, e ameaçaram fundar uma cidade própria caso as negociações não avançassem.SENADO Expandido para 300 membros. Tomava as decisões finais sobre guerra, impostos e leis. ASSEMBLEIAS Assembleia das tribos Assembleia da plebe Assembleia centuriataMAGISTRATURAS Pretores Justiça Censores Estatística e presidência do Senado Edis Organização urbana Questor Coleta de impostosCONSULADO Dois cônsules eleitos pelos magistrados para mandatos de apenas um ano. Um dos cônsules cuidava da administração pública, e outro do exército.AS CONQUISTAS DA P', 'filename': './src/documents/Roma Antiga.pdf'}}\n",
      "{'id': 'O9ILVozNY1d9', 'metadata': {'embedding': 'none por enquanto', 'text': 'ana Questor Coleta de impostosCONSULADO Dois cônsules eleitos pelos magistrados para mandatos de apenas um ano. Um dos cônsules cuidava da administração pública, e outro do exército.AS CONQUISTAS DA PLEBE Após muitas lutas, recusando se a trabalhar e a lutar nas guerras, os plebeus foram conquistando uma série de direitos O fim da escravidão por dívidas A permissão do casamento entre plebeus e patrícios A criação de uma magistratura para a plebe o Tribuno da Plebe, que poderia vetar decisões do Senado consideradas ruins para os plebeus O acesso dos plebeus ao cargo de sacerdotes A obrigatoried', 'filename': './src/documents/Roma Antiga.pdf'}}\n",
      "{'id': 'npFvuZilk4Pq', 'metadata': {'embedding': 'none por enquanto', 'text': 'rícios A criação de uma magistratura para a plebe o Tribuno da Plebe, que poderia vetar decisões do Senado consideradas ruins para os plebeus O acesso dos plebeus ao cargo de sacerdotes A obrigatoriedade da escolha de um Cônsul plebeu O primeiro código escrito de leis romanas, em 450 a.C. a Lei das Doze Tábuas , que garantia igualdade jurídica a todos os homens livres teoricamente.SENADO Expandido para 300 membros. Tomava as decisões finais sobre guerra, impostos e leis. Acesso dos plebeus ASSEMBLEIAS Assembleia das tribos Assembleia da plebe ganha maior importância Assembleia centuriataMAGIST', 'filename': './src/documents/Roma Antiga.pdf'}}\n",
      "{'id': 'idQNbSB81iL3', 'metadata': {'embedding': 'none por enquanto', 'text': ' para 300 membros. Tomava as decisões finais sobre guerra, impostos e leis. Acesso dos plebeus ASSEMBLEIAS Assembleia das tribos Assembleia da plebe ganha maior importância Assembleia centuriataMAGISTRATURAS Pretores Justiça Censores Estatística e presidência do Senado Edis Organização urbana Questor Coleta de impostos Tribuno da PlebeCONSULADO Cônsul Patrício e Cônsul PlebeuCópia da Lei das Doze Tábuas, em placas de bronzeAS GUERRAS PÚNICAS 264 a 146 a.C. Três guerras entre Roma, uma potência em ascensão, e Cartago, que dominava o comércio no Mediterâneo . 1ª Guerra Púnica Vitória romana. Rom', 'filename': './src/documents/Roma Antiga.pdf'}}\n",
      "{'id': 'uprGSSI9HUM2', 'metadata': {'embedding': 'none por enquanto', 'text': 'Tábuas, em placas de bronzeAS GUERRAS PÚNICAS 264 a 146 a.C. Três guerras entre Roma, uma potência em ascensão, e Cartago, que dominava o comércio no Mediterâneo . 1ª Guerra Púnica Vitória romana. Roma anexa as ilhas da Córsega, Sardenha e Sicília. 2ª Guerra Púnica O general cartaginês Aníbal tenta atacar Roma pelo norte, cruzando os Alpes. Nova vitória romana. Roma anexa o território cartaginês na Península Ibérica. 3ª Guerra Púnica Roma destrói Cartago e vende sua população como escravos.Tropas de Aníbal marcham pelos Alpes para atacar RomaRepresentação da cidade de Cartago . Note as muralha', 'filename': './src/documents/Roma Antiga.pdf'}}\n",
      "{'id': 'PvqhTMiUCpGY', 'metadata': {'embedding': 'none por enquanto', 'text': 'a Península Ibérica. 3ª Guerra Púnica Roma destrói Cartago e vende sua população como escravos.Tropas de Aníbal marcham pelos Alpes para atacar RomaRepresentação da cidade de Cartago . Note as muralhas que protegem a cidade, e seu enorme porto circular fortificado.CONSEQUÊNCIAS DAS GUERRAS PÚNICAS Destruição de Cartago Roma se transforma na principal potência do Mediterrâneo Início do expansionismo militar romano. Em poucos séculos, Roma iria conquistar a Grécia, o Egito, a Síria e quase todo o entorno do Mediterrâneo. Economia romana deixa de ser apenas agropastoril e passa a ter um enfoque c', 'filename': './src/documents/Roma Antiga.pdf'}}\n",
      "{'id': 'sGPvQxXEYi5L', 'metadata': {'embedding': 'none por enquanto', 'text': 'o militar romano. Em poucos séculos, Roma iria conquistar a Grécia, o Egito, a Síria e quase todo o entorno do Mediterrâneo. Economia romana deixa de ser apenas agropastoril e passa a ter um enfoque comercial.O EXPANSIONISMO ROMANO A entrada de novas riquezas e a profissionalização do exército romano levaram à conquista de muitos territórios. Roma dominou grande parte da Europa e do entorno do Mediterrâneo, ainda durante a República. Mapa da evolução territorial romana desde o início da República. Os números mostram as datas valores negativos estão antes de CristoA conquista de novos territóri', 'filename': './src/documents/Roma Antiga.pdf'}}\n",
      "{'id': 'zRkFYxZcIv3K', 'metadata': {'embedding': 'none por enquanto', 'text': 'iterrâneo, ainda durante a República. Mapa da evolução territorial romana desde o início da República. Os números mostram as datas valores negativos estão antes de CristoA conquista de novos territórios transformou Roma em diversos aspectos. A economia romana, antes agrícola e pastoril passou a ser essencialmente comercial. Os comandantes militares, responsáveis pelas conquistas romanas, adquiriram cada vez mais poder. Eles eram responsáveis por distribuir parte das terras e riquezas entre seus soldados e, por isso, recebiam grande obediência. Muitos plebeus enriqueceram com o expansionismo, p', 'filename': './src/documents/Roma Antiga.pdf'}}\n",
      "{'id': 'dZZAhumlXVdb', 'metadata': {'embedding': 'none por enquanto', 'text': 'm cada vez mais poder. Eles eram responsáveis por distribuir parte das terras e riquezas entre seus soldados e, por isso, recebiam grande obediência. Muitos plebeus enriqueceram com o expansionismo, passando a fornecer produtos alimentos, armas e serviços construção de estradas e pontes ao Estado romano. Tornaram se u grupo social cada vez ais importante a nobreza .Os romanos apelidaram o Mediterrâneo de mare nostrvm nosso mar, demonstrando seu poder. Roma viveu um crescimento acelerado no número de escravos, capturados em suas guerras de conquista. Com escravos desempenhando grande parte das ', 'filename': './src/documents/Roma Antiga.pdf'}}\n",
      "{'id': 'qJitFNfYtFvI', 'metadata': {'embedding': 'none por enquanto', 'text': 'âneo de mare nostrvm nosso mar, demonstrando seu poder. Roma viveu um crescimento acelerado no número de escravos, capturados em suas guerras de conquista. Com escravos desempenhando grande parte das atividades econômicas, sobrou pouco espaço para a maioria dos integrantes da plebe. Muitos plebeus se viram obrigados a abandonar o campo e partir para a cidade em busca de sobrevivência Êxodo ruralLUTAS INTERNAS Com a desigualdade social aumentando e o desemprego, especialmente no campo, surgiram propostas de reforma agrária ou seja, de uma redistribuição das terras de Roma. Os maiores defensores', 'filename': './src/documents/Roma Antiga.pdf'}}\n",
      "{'id': 'RGm3CjaXNqPL', 'metadata': {'embedding': 'none por enquanto', 'text': 'TAS INTERNAS Com a desigualdade social aumentando e o desemprego, especialmente no campo, surgiram propostas de reforma agrária ou seja, de uma redistribuição das terras de Roma. Os maiores defensores dessa ideia foram os irmãos Tibério e Caio Graco . Eleitos tribunos da plebe, propuseram a reforma e a distribuição de alimentos aos romanos pobres. Sofreram forte oposição do patriciado, e acabaram mortos  Tibério assassinado e Caio forçado a se suicidar.Representação dos irmãos Tibério e Caio Graco. Note que eles seguram um papel, que simboliza suas propostas interrompidas pela morte violenta q', 'filename': './src/documents/Roma Antiga.pdf'}}\n",
      "{'id': 'ncyVh8CGolIN', 'metadata': {'embedding': 'none por enquanto', 'text': 'mortos  Tibério assassinado e Caio forçado a se suicidar.Representação dos irmãos Tibério e Caio Graco. Note que eles seguram um papel, que simboliza suas propostas interrompidas pela morte violenta que sofreram.Ocorreram, também, diversas revoltas de escravos em Roma. Eles lutavam por melhores condições de vida ou por sua liberdade. A maior rebelião foi liderada pelo escravo Espártaco , que chegou a formar um exército de 60 mil homens, mas acabou derrotado e morto pelas tropas romanas. Representação de Espártaco , líder da mais famosa rebelião de escravos sofrida por RomaO exército se fortale', 'filename': './src/documents/Roma Antiga.pdf'}}\n",
      "{'id': '8QXmNbxCOipK', 'metadata': {'embedding': 'none por enquanto', 'text': 'u a formar um exército de 60 mil homens, mas acabou derrotado e morto pelas tropas romanas. Representação de Espártaco , líder da mais famosa rebelião de escravos sofrida por RomaO exército se fortaleceu pelas conquistas externas e o combate às revoltas internas. Três generais Crasso, Pompeu e Júlio César, o chamado Triunvirato passaram a governar Roma em conjunto, se tornando mais poderosos que o Senado. Júlio César derrotou os outros dois e concentrou o poder em suas mãos, tornando  se ditador vitalício de Roma. Tendo perdido poder, o Senado conspirou para que César fosse assassinado.Represe', 'filename': './src/documents/Roma Antiga.pdf'}}\n",
      "{'id': 'qex3XxUVANpT', 'metadata': {'embedding': 'none por enquanto', 'text': ' Senado. Júlio César derrotou os outros dois e concentrou o poder em suas mãos, tornando  se ditador vitalício de Roma. Tendo perdido poder, o Senado conspirou para que César fosse assassinado.Representação do assassinato de Júlio César, que aparece caído no chão em roupas coloridas, sendo atacado pelos conspiradores no Senado romanoCom a morte de César, um novo triunvirato foi formado incluindo seu filho adotivo, Marco Antônio. Após uma sangrenta guerra civil, Marco Antônio assume todo o poder e é proclamado Imperador de Roma . Assim, o Senado perde importância, e se encerra a fase republican', 'filename': './src/documents/Roma Antiga.pdf'}}\n",
      "{'id': 'aByGd01AX11m', 'metadata': {'embedding': 'none por enquanto', 'text': 'eu filho adotivo, Marco Antônio. Após uma sangrenta guerra civil, Marco Antônio assume todo o poder e é proclamado Imperador de Roma . Assim, o Senado perde importância, e se encerra a fase republicana da História de Roma. Tem início o Império .Guerras PúnicasVitória romana Roma se torna a maior potência do Mediterrâneo Início do expansionismo romano Economia se torna comercial Número de escravos aumenta vertiginosamente Ascensão social de determinados plebeus e comandantes militaresInstabilidade política Desemprego Concentração de terras e riquezas Rebeliões de escravos  Espártaco  Chegada de', 'filename': './src/documents/Roma Antiga.pdf'}}\n",
      "{'id': 'JgU4CJWKYAq7', 'metadata': {'embedding': 'none por enquanto', 'text': 'aumenta vertiginosamente Ascensão social de determinados plebeus e comandantes militaresInstabilidade política Desemprego Concentração de terras e riquezas Rebeliões de escravos  Espártaco  Chegada de militares ao poder Triunvirato Júlio César Marco Antônio IMPÉRIOO IMPÉRIO 27 a.C. a 476 d.C. Baixo Império Séculos I a.C. a III d.C. Alto Império Séculos III a V d.C.O ALTO IMPÉRIO SÉCULOS I a.C. a III d.C. Período de máxima extensão territorial. Roma dominava quase toda a Europa, o norte da África e partes do Oriente Médio. Construção ou crescimento de cidades por todo o Império ou seja, urbaniz', 'filename': './src/documents/Roma Antiga.pdf'}}\n",
      "{'id': 'HSYBrcZBSA5x', 'metadata': {'embedding': 'none por enquanto', 'text': 'II d.C. Período de máxima extensão territorial. Roma dominava quase toda a Europa, o norte da África e partes do Oriente Médio. Construção ou crescimento de cidades por todo o Império ou seja, urbanização, contando com sistemas de abastecimento de água, esgotos, termas e ricos prédios públicos .Política de  pão e circo  nobreza realizava festivais, concedia feriados e distribuía alimentos para manter a população calma e obediente. Pax Romana Paz Romana Período de tranquilidade, com o fim das guerras internas e a desaceleração dos conflitos externos. Durante os festivais promovidos pela elite p', 'filename': './src/documents/Roma Antiga.pdf'}}\n",
      "{'id': '5PLGMizvZpNn', 'metadata': {'embedding': 'none por enquanto', 'text': 'ter a população calma e obediente. Pax Romana Paz Romana Período de tranquilidade, com o fim das guerras internas e a desaceleração dos conflitos externos. Durante os festivais promovidos pela elite para o povo, uma das principais atrações eram os combates de gladiadores. Aqui, vemos um cartaz convidando o público para o espetáculo violento.O BAIXO IMPÉRIO SÉCULOS III d.C. a V d.C. Período de crise em que o Império Romano começa a enfrentar grandes dificuldades Economia Fim das guerras de expansão faz reduzir o número de escravos menos prisioneiros  menos escravos, causando uma crise na produç', 'filename': './src/documents/Roma Antiga.pdf'}}\n",
      "{'id': 'uGiwXaz0O9R9', 'metadata': {'embedding': 'none por enquanto', 'text': 'e em que o Império Romano começa a enfrentar grandes dificuldades Economia Fim das guerras de expansão faz reduzir o número de escravos menos prisioneiros  menos escravos, causando uma crise na produção agrícola. Política Começam contínuas disputas pelo poder em Roma. Diversos Imperadores foram depostos ou assassinados, e as disputas trouxeram o caos à política romana.Do ponto de vista administrativo, o Império havia conquistado um território tão grande que era difícil governar e manter a ordem nas províncias. Em locais distantes da capital, governantes locais começaram a mandar mais que o pró', 'filename': './src/documents/Roma Antiga.pdf'}}\n",
      "{'id': '97sOjd9znkqH', 'metadata': {'embedding': 'none por enquanto', 'text': 'ivo, o Império havia conquistado um território tão grande que era difícil governar e manter a ordem nas províncias. Em locais distantes da capital, governantes locais começaram a mandar mais que o próprio imperador. Além disso, cada vez mais bárbaros os romanos consideravam bárbaros todos aqueles povos que não falavam latim, nem seguiam os hábitos romanos começaram a entrar no Império, de duas formas Alguns vinham pacificamente, através de acordos. Podiam viver nas terras romanas, e mesmo servir ao exército romano. Outros adentravam o território através de violentos ataques, que destruíam e sa', 'filename': './src/documents/Roma Antiga.pdf'}}\n",
      "{'id': 'P8CkZ0SzBZqy', 'metadata': {'embedding': 'none por enquanto', 'text': 'mas Alguns vinham pacificamente, através de acordos. Podiam viver nas terras romanas, e mesmo servir ao exército romano. Outros adentravam o território através de violentos ataques, que destruíam e saqueavam cidades romanas.A QUEDA DE ROMA Com o passar do tempo, os problemas se tornaram insustentáveis. O exército romano já não conseguia mais conter as invasões bárbaras , e o Império se empobrecia. Em 284 d.C., na tentativa de amenizar o problema, o Império foi dividido em duas partes o Império Romano do Ocidente , com capital em Roma, e o Império Romano do Oriente , sediado em Constantinopla.D', 'filename': './src/documents/Roma Antiga.pdf'}}\n",
      "{'id': 'CnM5GX60nRcH', 'metadata': {'embedding': 'none por enquanto', 'text': ' Em 284 d.C., na tentativa de amenizar o problema, o Império foi dividido em duas partes o Império Romano do Ocidente , com capital em Roma, e o Império Romano do Oriente , sediado em Constantinopla.Divisão do Império Romano. Note as duas capitais Roma e ConstantinoplaA divisão, contudo, não foi suficiente para conter a crise do Império. Os constantes ataques bárbaros, em especial dos povos germanos, hunos e celtas, enfraqueceu o Império. No ano de 476 d.C. a própria cidade de Roma foi atacada e saqueada, e o Imperador do Ocidente foi deposto . Foi o fim do Império Romano do Ocidente e da Idad', 'filename': './src/documents/Roma Antiga.pdf'}}\n",
      "{'id': 'HMQCfX33onry', 'metadata': {'embedding': 'none por enquanto', 'text': 'os, hunos e celtas, enfraqueceu o Império. No ano de 476 d.C. a própria cidade de Roma foi atacada e saqueada, e o Imperador do Ocidente foi deposto . Foi o fim do Império Romano do Ocidente e da Idade Antiga, tendo início o longo período da história europeia conhecido como Idade Média .', 'filename': './src/documents/Roma Antiga.pdf'}}\n"
     ]
    }
   ],
   "source": [
    "from src.general.Chunk.chunk import ChunkedText\n",
    "chunk_size = 600\n",
    "overlap = 200\n",
    "\n",
    "chunker = ChunkedText(cleaned_data, chunk_size, overlap)\n",
    "chunked_data = chunker.chunk_structure()\n",
    "\n",
    "# Exibir resultado:\n",
    "for entry in chunked_data:\n",
    "    print(entry)"
   ]
  },
  {
   "cell_type": "code",
   "execution_count": 8,
   "metadata": {},
   "outputs": [
    {
     "data": {
      "text/plain": [
       "[{'id': '0lFIkSnvqsyf',\n",
       "  'metadata': {'embedding': 'none por enquanto',\n",
       "   'text': 'ROMA ANTIGA Prof. João RochaLINHA DO TEMPO 753 a.C. 509 a.C. 27 a.C. 476 d.C. MONARQUIA  Fundação de Roma  Domínio Etrusco  Conflitos plebeus patrícios  Formação das estruturas sociais e políticas romanasREPÚBLICA  Predomínio do Senado  Guerras Púnicas  Expansionismo militar  Roma como superpotência  Revoltas de escravosIMPÉRIO  Auge da dominação romana  PaxRomana  Problemas fronteiriços com bárbaros  Divisão do Império  Queda de Roma a.C. d.C.FORMAÇÃO APenínsula Itálica foiocupada por diversos povos, a partir doséculo XIa.C.Amistura destes povos levou à configuração étnica ecultural deRoma . ',\n",
       "   'filename': './src/documents/Roma Antiga.pdf'}},\n",
       " {'id': 'pduHcKhu8YHy',\n",
       "  'metadata': {'embedding': 'none por enquanto',\n",
       "   'text': 'ros  Divisão do Império  Queda de Roma a.C. d.C.FORMAÇÃO APenínsula Itálica foiocupada por diversos povos, a partir doséculo XIa.C.Amistura destes povos levou à configuração étnica ecultural deRoma . POVO LOCAL CONTRIBUIÇÕES PRINCIPAIS Etruscos Norte da Península ItálicaMilitarismo Urbanização Italiotas latinos, sabinos, etc.Região central da Península ItálicaIdioma Gregos Sul da Península Itálica  Magna Graecia Arquitetura Religião Sistema políticoRoma foi fundada em 753 a.C., a partir da união de diferentes aldeias agropastoris, motivada pela invasão etrusca da região. Os etruscos centraliza',\n",
       "   'filename': './src/documents/Roma Antiga.pdf'}},\n",
       " {'id': 'zElj8HaVykOo',\n",
       "  'metadata': {'embedding': 'none por enquanto',\n",
       "   'text': '  Magna Graecia Arquitetura Religião Sistema políticoRoma foi fundada em 753 a.C., a partir da união de diferentes aldeias agropastoris, motivada pela invasão etrusca da região. Os etruscos centralizaram o governo, ampliaram a população e promoveram obras importantes, como drenagem de pântanos, construção de pontes e da primeira muralha da cidade.Mito de Rômulo e Remo  explicação tradicional sobre a origem do povo romano A MONARQUIA 753 509 a.C.A MONARQUIA 753 509 a.C. Rei compartilhava o poder com o Senado e uma Assembleia. O Senado do latim senex , velho era composto por patrícios com mais d',\n",
       "   'filename': './src/documents/Roma Antiga.pdf'}},\n",
       " {'id': 'EPtAgaN9dFnA',\n",
       "  'metadata': {'embedding': 'none por enquanto',\n",
       "   'text': ' a origem do povo romano A MONARQUIA 753 509 a.C.A MONARQUIA 753 509 a.C. Rei compartilhava o poder com o Senado e uma Assembleia. O Senado do latim senex , velho era composto por patrícios com mais de 45 anos. Com o passar do tempo, se tornou a principal instituição romana. A Assembleia era um conselho militar formado por jovens líderes guerreiros, que decidiam sobre a guerra ou paz. Disputas de poder contínuas entre etruscos e os povos locais. Reis passam a conceder benefícios à população comum à revelia do Senado, concentrando poder em suas mãos.Representação do Senado romano em funcionamen',\n",
       "   'filename': './src/documents/Roma Antiga.pdf'}},\n",
       " {'id': 'aJ4OwnzU4NjL',\n",
       "  'metadata': {'embedding': 'none por enquanto',\n",
       "   'text': 'poder contínuas entre etruscos e os povos locais. Reis passam a conceder benefícios à população comum à revelia do Senado, concentrando poder em suas mãos.Representação do Senado romano em funcionamentoESTRUTURA SOCIAL ROMANA Patrícios Elite, composta por grandes proprietários rurais. Plebeus Maioria da população romana, composta de camponeses, artesãos e comerciantes livres Clientes Indivíduos livres, às vezes estrangeiros, que prestavam serviços diretos aos Patrícios em troca de benefícios Escravos Oriundos de guerras, ou cativos por dívidasTemendo perder importância, os patrícios romanos de',\n",
       "   'filename': './src/documents/Roma Antiga.pdf'}},\n",
       " {'id': 'Z3iiXIUpH11c',\n",
       "  'metadata': {'embedding': 'none por enquanto',\n",
       "   'text': 'vres, às vezes estrangeiros, que prestavam serviços diretos aos Patrícios em troca de benefícios Escravos Oriundos de guerras, ou cativos por dívidasTemendo perder importância, os patrícios romanos depuseram o último rei romano, Tarquínio, e implantaram um novo sistema de governo, inspirado no modelo grego a República . O Senado assume o comando político, e se torna o principal órgão romano. RES PVBLICAE  coisa pública, administração coletiva e transparente Senatvs Popvlvsqve Romanvs Senado e o Povo RomanoA REPÚBLICA 509 A 27 a.C.A REPÚBLICA 509 a 27 a.C. A república manteve os privilégios da ',\n",
       "   'filename': './src/documents/Roma Antiga.pdf'}},\n",
       " {'id': '6nCFWRmMgC7d',\n",
       "  'metadata': {'embedding': 'none por enquanto',\n",
       "   'text': 'VBLICAE  coisa pública, administração coletiva e transparente Senatvs Popvlvsqve Romanvs Senado e o Povo RomanoA REPÚBLICA 509 A 27 a.C.A REPÚBLICA 509 a 27 a.C. A república manteve os privilégios da elite, porém reorganizou o sistema político. O resultado foi uma intensificação dos conflitos sociais, com a plebe e os escravos pressionando o patriciado por reformas e melhores condições de vida. Plebeus recusavam se a trabalhar nos campos, a servir o exército, e ameaçaram fundar uma cidade própria caso as negociações não avançassem.SENADO Expandido para 300 membros. Tomava as decisões finais so',\n",
       "   'filename': './src/documents/Roma Antiga.pdf'}},\n",
       " {'id': 'n4OKrDoXW6Sv',\n",
       "  'metadata': {'embedding': 'none por enquanto',\n",
       "   'text': 'ebeus recusavam se a trabalhar nos campos, a servir o exército, e ameaçaram fundar uma cidade própria caso as negociações não avançassem.SENADO Expandido para 300 membros. Tomava as decisões finais sobre guerra, impostos e leis. ASSEMBLEIAS Assembleia das tribos Assembleia da plebe Assembleia centuriataMAGISTRATURAS Pretores Justiça Censores Estatística e presidência do Senado Edis Organização urbana Questor Coleta de impostosCONSULADO Dois cônsules eleitos pelos magistrados para mandatos de apenas um ano. Um dos cônsules cuidava da administração pública, e outro do exército.AS CONQUISTAS DA P',\n",
       "   'filename': './src/documents/Roma Antiga.pdf'}},\n",
       " {'id': 'O9ILVozNY1d9',\n",
       "  'metadata': {'embedding': 'none por enquanto',\n",
       "   'text': 'ana Questor Coleta de impostosCONSULADO Dois cônsules eleitos pelos magistrados para mandatos de apenas um ano. Um dos cônsules cuidava da administração pública, e outro do exército.AS CONQUISTAS DA PLEBE Após muitas lutas, recusando se a trabalhar e a lutar nas guerras, os plebeus foram conquistando uma série de direitos O fim da escravidão por dívidas A permissão do casamento entre plebeus e patrícios A criação de uma magistratura para a plebe o Tribuno da Plebe, que poderia vetar decisões do Senado consideradas ruins para os plebeus O acesso dos plebeus ao cargo de sacerdotes A obrigatoried',\n",
       "   'filename': './src/documents/Roma Antiga.pdf'}},\n",
       " {'id': 'npFvuZilk4Pq',\n",
       "  'metadata': {'embedding': 'none por enquanto',\n",
       "   'text': 'rícios A criação de uma magistratura para a plebe o Tribuno da Plebe, que poderia vetar decisões do Senado consideradas ruins para os plebeus O acesso dos plebeus ao cargo de sacerdotes A obrigatoriedade da escolha de um Cônsul plebeu O primeiro código escrito de leis romanas, em 450 a.C. a Lei das Doze Tábuas , que garantia igualdade jurídica a todos os homens livres teoricamente.SENADO Expandido para 300 membros. Tomava as decisões finais sobre guerra, impostos e leis. Acesso dos plebeus ASSEMBLEIAS Assembleia das tribos Assembleia da plebe ganha maior importância Assembleia centuriataMAGIST',\n",
       "   'filename': './src/documents/Roma Antiga.pdf'}},\n",
       " {'id': 'idQNbSB81iL3',\n",
       "  'metadata': {'embedding': 'none por enquanto',\n",
       "   'text': ' para 300 membros. Tomava as decisões finais sobre guerra, impostos e leis. Acesso dos plebeus ASSEMBLEIAS Assembleia das tribos Assembleia da plebe ganha maior importância Assembleia centuriataMAGISTRATURAS Pretores Justiça Censores Estatística e presidência do Senado Edis Organização urbana Questor Coleta de impostos Tribuno da PlebeCONSULADO Cônsul Patrício e Cônsul PlebeuCópia da Lei das Doze Tábuas, em placas de bronzeAS GUERRAS PÚNICAS 264 a 146 a.C. Três guerras entre Roma, uma potência em ascensão, e Cartago, que dominava o comércio no Mediterâneo . 1ª Guerra Púnica Vitória romana. Rom',\n",
       "   'filename': './src/documents/Roma Antiga.pdf'}},\n",
       " {'id': 'uprGSSI9HUM2',\n",
       "  'metadata': {'embedding': 'none por enquanto',\n",
       "   'text': 'Tábuas, em placas de bronzeAS GUERRAS PÚNICAS 264 a 146 a.C. Três guerras entre Roma, uma potência em ascensão, e Cartago, que dominava o comércio no Mediterâneo . 1ª Guerra Púnica Vitória romana. Roma anexa as ilhas da Córsega, Sardenha e Sicília. 2ª Guerra Púnica O general cartaginês Aníbal tenta atacar Roma pelo norte, cruzando os Alpes. Nova vitória romana. Roma anexa o território cartaginês na Península Ibérica. 3ª Guerra Púnica Roma destrói Cartago e vende sua população como escravos.Tropas de Aníbal marcham pelos Alpes para atacar RomaRepresentação da cidade de Cartago . Note as muralha',\n",
       "   'filename': './src/documents/Roma Antiga.pdf'}},\n",
       " {'id': 'PvqhTMiUCpGY',\n",
       "  'metadata': {'embedding': 'none por enquanto',\n",
       "   'text': 'a Península Ibérica. 3ª Guerra Púnica Roma destrói Cartago e vende sua população como escravos.Tropas de Aníbal marcham pelos Alpes para atacar RomaRepresentação da cidade de Cartago . Note as muralhas que protegem a cidade, e seu enorme porto circular fortificado.CONSEQUÊNCIAS DAS GUERRAS PÚNICAS Destruição de Cartago Roma se transforma na principal potência do Mediterrâneo Início do expansionismo militar romano. Em poucos séculos, Roma iria conquistar a Grécia, o Egito, a Síria e quase todo o entorno do Mediterrâneo. Economia romana deixa de ser apenas agropastoril e passa a ter um enfoque c',\n",
       "   'filename': './src/documents/Roma Antiga.pdf'}},\n",
       " {'id': 'sGPvQxXEYi5L',\n",
       "  'metadata': {'embedding': 'none por enquanto',\n",
       "   'text': 'o militar romano. Em poucos séculos, Roma iria conquistar a Grécia, o Egito, a Síria e quase todo o entorno do Mediterrâneo. Economia romana deixa de ser apenas agropastoril e passa a ter um enfoque comercial.O EXPANSIONISMO ROMANO A entrada de novas riquezas e a profissionalização do exército romano levaram à conquista de muitos territórios. Roma dominou grande parte da Europa e do entorno do Mediterrâneo, ainda durante a República. Mapa da evolução territorial romana desde o início da República. Os números mostram as datas valores negativos estão antes de CristoA conquista de novos territóri',\n",
       "   'filename': './src/documents/Roma Antiga.pdf'}},\n",
       " {'id': 'zRkFYxZcIv3K',\n",
       "  'metadata': {'embedding': 'none por enquanto',\n",
       "   'text': 'iterrâneo, ainda durante a República. Mapa da evolução territorial romana desde o início da República. Os números mostram as datas valores negativos estão antes de CristoA conquista de novos territórios transformou Roma em diversos aspectos. A economia romana, antes agrícola e pastoril passou a ser essencialmente comercial. Os comandantes militares, responsáveis pelas conquistas romanas, adquiriram cada vez mais poder. Eles eram responsáveis por distribuir parte das terras e riquezas entre seus soldados e, por isso, recebiam grande obediência. Muitos plebeus enriqueceram com o expansionismo, p',\n",
       "   'filename': './src/documents/Roma Antiga.pdf'}},\n",
       " {'id': 'dZZAhumlXVdb',\n",
       "  'metadata': {'embedding': 'none por enquanto',\n",
       "   'text': 'm cada vez mais poder. Eles eram responsáveis por distribuir parte das terras e riquezas entre seus soldados e, por isso, recebiam grande obediência. Muitos plebeus enriqueceram com o expansionismo, passando a fornecer produtos alimentos, armas e serviços construção de estradas e pontes ao Estado romano. Tornaram se u grupo social cada vez ais importante a nobreza .Os romanos apelidaram o Mediterrâneo de mare nostrvm nosso mar, demonstrando seu poder. Roma viveu um crescimento acelerado no número de escravos, capturados em suas guerras de conquista. Com escravos desempenhando grande parte das ',\n",
       "   'filename': './src/documents/Roma Antiga.pdf'}},\n",
       " {'id': 'qJitFNfYtFvI',\n",
       "  'metadata': {'embedding': 'none por enquanto',\n",
       "   'text': 'âneo de mare nostrvm nosso mar, demonstrando seu poder. Roma viveu um crescimento acelerado no número de escravos, capturados em suas guerras de conquista. Com escravos desempenhando grande parte das atividades econômicas, sobrou pouco espaço para a maioria dos integrantes da plebe. Muitos plebeus se viram obrigados a abandonar o campo e partir para a cidade em busca de sobrevivência Êxodo ruralLUTAS INTERNAS Com a desigualdade social aumentando e o desemprego, especialmente no campo, surgiram propostas de reforma agrária ou seja, de uma redistribuição das terras de Roma. Os maiores defensores',\n",
       "   'filename': './src/documents/Roma Antiga.pdf'}},\n",
       " {'id': 'RGm3CjaXNqPL',\n",
       "  'metadata': {'embedding': 'none por enquanto',\n",
       "   'text': 'TAS INTERNAS Com a desigualdade social aumentando e o desemprego, especialmente no campo, surgiram propostas de reforma agrária ou seja, de uma redistribuição das terras de Roma. Os maiores defensores dessa ideia foram os irmãos Tibério e Caio Graco . Eleitos tribunos da plebe, propuseram a reforma e a distribuição de alimentos aos romanos pobres. Sofreram forte oposição do patriciado, e acabaram mortos  Tibério assassinado e Caio forçado a se suicidar.Representação dos irmãos Tibério e Caio Graco. Note que eles seguram um papel, que simboliza suas propostas interrompidas pela morte violenta q',\n",
       "   'filename': './src/documents/Roma Antiga.pdf'}},\n",
       " {'id': 'ncyVh8CGolIN',\n",
       "  'metadata': {'embedding': 'none por enquanto',\n",
       "   'text': 'mortos  Tibério assassinado e Caio forçado a se suicidar.Representação dos irmãos Tibério e Caio Graco. Note que eles seguram um papel, que simboliza suas propostas interrompidas pela morte violenta que sofreram.Ocorreram, também, diversas revoltas de escravos em Roma. Eles lutavam por melhores condições de vida ou por sua liberdade. A maior rebelião foi liderada pelo escravo Espártaco , que chegou a formar um exército de 60 mil homens, mas acabou derrotado e morto pelas tropas romanas. Representação de Espártaco , líder da mais famosa rebelião de escravos sofrida por RomaO exército se fortale',\n",
       "   'filename': './src/documents/Roma Antiga.pdf'}},\n",
       " {'id': '8QXmNbxCOipK',\n",
       "  'metadata': {'embedding': 'none por enquanto',\n",
       "   'text': 'u a formar um exército de 60 mil homens, mas acabou derrotado e morto pelas tropas romanas. Representação de Espártaco , líder da mais famosa rebelião de escravos sofrida por RomaO exército se fortaleceu pelas conquistas externas e o combate às revoltas internas. Três generais Crasso, Pompeu e Júlio César, o chamado Triunvirato passaram a governar Roma em conjunto, se tornando mais poderosos que o Senado. Júlio César derrotou os outros dois e concentrou o poder em suas mãos, tornando  se ditador vitalício de Roma. Tendo perdido poder, o Senado conspirou para que César fosse assassinado.Represe',\n",
       "   'filename': './src/documents/Roma Antiga.pdf'}},\n",
       " {'id': 'qex3XxUVANpT',\n",
       "  'metadata': {'embedding': 'none por enquanto',\n",
       "   'text': ' Senado. Júlio César derrotou os outros dois e concentrou o poder em suas mãos, tornando  se ditador vitalício de Roma. Tendo perdido poder, o Senado conspirou para que César fosse assassinado.Representação do assassinato de Júlio César, que aparece caído no chão em roupas coloridas, sendo atacado pelos conspiradores no Senado romanoCom a morte de César, um novo triunvirato foi formado incluindo seu filho adotivo, Marco Antônio. Após uma sangrenta guerra civil, Marco Antônio assume todo o poder e é proclamado Imperador de Roma . Assim, o Senado perde importância, e se encerra a fase republican',\n",
       "   'filename': './src/documents/Roma Antiga.pdf'}},\n",
       " {'id': 'aByGd01AX11m',\n",
       "  'metadata': {'embedding': 'none por enquanto',\n",
       "   'text': 'eu filho adotivo, Marco Antônio. Após uma sangrenta guerra civil, Marco Antônio assume todo o poder e é proclamado Imperador de Roma . Assim, o Senado perde importância, e se encerra a fase republicana da História de Roma. Tem início o Império .Guerras PúnicasVitória romana Roma se torna a maior potência do Mediterrâneo Início do expansionismo romano Economia se torna comercial Número de escravos aumenta vertiginosamente Ascensão social de determinados plebeus e comandantes militaresInstabilidade política Desemprego Concentração de terras e riquezas Rebeliões de escravos  Espártaco  Chegada de',\n",
       "   'filename': './src/documents/Roma Antiga.pdf'}},\n",
       " {'id': 'JgU4CJWKYAq7',\n",
       "  'metadata': {'embedding': 'none por enquanto',\n",
       "   'text': 'aumenta vertiginosamente Ascensão social de determinados plebeus e comandantes militaresInstabilidade política Desemprego Concentração de terras e riquezas Rebeliões de escravos  Espártaco  Chegada de militares ao poder Triunvirato Júlio César Marco Antônio IMPÉRIOO IMPÉRIO 27 a.C. a 476 d.C. Baixo Império Séculos I a.C. a III d.C. Alto Império Séculos III a V d.C.O ALTO IMPÉRIO SÉCULOS I a.C. a III d.C. Período de máxima extensão territorial. Roma dominava quase toda a Europa, o norte da África e partes do Oriente Médio. Construção ou crescimento de cidades por todo o Império ou seja, urbaniz',\n",
       "   'filename': './src/documents/Roma Antiga.pdf'}},\n",
       " {'id': 'HSYBrcZBSA5x',\n",
       "  'metadata': {'embedding': 'none por enquanto',\n",
       "   'text': 'II d.C. Período de máxima extensão territorial. Roma dominava quase toda a Europa, o norte da África e partes do Oriente Médio. Construção ou crescimento de cidades por todo o Império ou seja, urbanização, contando com sistemas de abastecimento de água, esgotos, termas e ricos prédios públicos .Política de  pão e circo  nobreza realizava festivais, concedia feriados e distribuía alimentos para manter a população calma e obediente. Pax Romana Paz Romana Período de tranquilidade, com o fim das guerras internas e a desaceleração dos conflitos externos. Durante os festivais promovidos pela elite p',\n",
       "   'filename': './src/documents/Roma Antiga.pdf'}},\n",
       " {'id': '5PLGMizvZpNn',\n",
       "  'metadata': {'embedding': 'none por enquanto',\n",
       "   'text': 'ter a população calma e obediente. Pax Romana Paz Romana Período de tranquilidade, com o fim das guerras internas e a desaceleração dos conflitos externos. Durante os festivais promovidos pela elite para o povo, uma das principais atrações eram os combates de gladiadores. Aqui, vemos um cartaz convidando o público para o espetáculo violento.O BAIXO IMPÉRIO SÉCULOS III d.C. a V d.C. Período de crise em que o Império Romano começa a enfrentar grandes dificuldades Economia Fim das guerras de expansão faz reduzir o número de escravos menos prisioneiros  menos escravos, causando uma crise na produç',\n",
       "   'filename': './src/documents/Roma Antiga.pdf'}},\n",
       " {'id': 'uGiwXaz0O9R9',\n",
       "  'metadata': {'embedding': 'none por enquanto',\n",
       "   'text': 'e em que o Império Romano começa a enfrentar grandes dificuldades Economia Fim das guerras de expansão faz reduzir o número de escravos menos prisioneiros  menos escravos, causando uma crise na produção agrícola. Política Começam contínuas disputas pelo poder em Roma. Diversos Imperadores foram depostos ou assassinados, e as disputas trouxeram o caos à política romana.Do ponto de vista administrativo, o Império havia conquistado um território tão grande que era difícil governar e manter a ordem nas províncias. Em locais distantes da capital, governantes locais começaram a mandar mais que o pró',\n",
       "   'filename': './src/documents/Roma Antiga.pdf'}},\n",
       " {'id': '97sOjd9znkqH',\n",
       "  'metadata': {'embedding': 'none por enquanto',\n",
       "   'text': 'ivo, o Império havia conquistado um território tão grande que era difícil governar e manter a ordem nas províncias. Em locais distantes da capital, governantes locais começaram a mandar mais que o próprio imperador. Além disso, cada vez mais bárbaros os romanos consideravam bárbaros todos aqueles povos que não falavam latim, nem seguiam os hábitos romanos começaram a entrar no Império, de duas formas Alguns vinham pacificamente, através de acordos. Podiam viver nas terras romanas, e mesmo servir ao exército romano. Outros adentravam o território através de violentos ataques, que destruíam e sa',\n",
       "   'filename': './src/documents/Roma Antiga.pdf'}},\n",
       " {'id': 'P8CkZ0SzBZqy',\n",
       "  'metadata': {'embedding': 'none por enquanto',\n",
       "   'text': 'mas Alguns vinham pacificamente, através de acordos. Podiam viver nas terras romanas, e mesmo servir ao exército romano. Outros adentravam o território através de violentos ataques, que destruíam e saqueavam cidades romanas.A QUEDA DE ROMA Com o passar do tempo, os problemas se tornaram insustentáveis. O exército romano já não conseguia mais conter as invasões bárbaras , e o Império se empobrecia. Em 284 d.C., na tentativa de amenizar o problema, o Império foi dividido em duas partes o Império Romano do Ocidente , com capital em Roma, e o Império Romano do Oriente , sediado em Constantinopla.D',\n",
       "   'filename': './src/documents/Roma Antiga.pdf'}},\n",
       " {'id': 'CnM5GX60nRcH',\n",
       "  'metadata': {'embedding': 'none por enquanto',\n",
       "   'text': ' Em 284 d.C., na tentativa de amenizar o problema, o Império foi dividido em duas partes o Império Romano do Ocidente , com capital em Roma, e o Império Romano do Oriente , sediado em Constantinopla.Divisão do Império Romano. Note as duas capitais Roma e ConstantinoplaA divisão, contudo, não foi suficiente para conter a crise do Império. Os constantes ataques bárbaros, em especial dos povos germanos, hunos e celtas, enfraqueceu o Império. No ano de 476 d.C. a própria cidade de Roma foi atacada e saqueada, e o Imperador do Ocidente foi deposto . Foi o fim do Império Romano do Ocidente e da Idad',\n",
       "   'filename': './src/documents/Roma Antiga.pdf'}},\n",
       " {'id': 'HMQCfX33onry',\n",
       "  'metadata': {'embedding': 'none por enquanto',\n",
       "   'text': 'os, hunos e celtas, enfraqueceu o Império. No ano de 476 d.C. a própria cidade de Roma foi atacada e saqueada, e o Imperador do Ocidente foi deposto . Foi o fim do Império Romano do Ocidente e da Idade Antiga, tendo início o longo período da história europeia conhecido como Idade Média .',\n",
       "   'filename': './src/documents/Roma Antiga.pdf'}}]"
      ]
     },
     "execution_count": 8,
     "metadata": {},
     "output_type": "execute_result"
    }
   ],
   "source": [
    "chunked_data"
   ]
  },
  {
   "cell_type": "markdown",
   "metadata": {},
   "source": [
    "## Model Text Generator"
   ]
  },
  {
   "cell_type": "code",
   "execution_count": 9,
   "metadata": {},
   "outputs": [
    {
     "name": "stderr",
     "output_type": "stream",
     "text": [
      "INFO:botocore.credentials:Found credentials in shared credentials file: ~/.aws/credentials\n"
     ]
    },
    {
     "data": {
      "text/plain": [
       "'Olá! É ótimo ver que você está aprendendo português. Vou fazer o meu melhor para ajudá-lo a praticar e aprimorar suas habilidades neste lindo idioma. Não hesite em fazer perguntas ou pedir esclarecimentos sempre que precisar. Estou aqui para tornar a sua jornada de aprendizado mais agradável e produtiva.'"
      ]
     },
     "execution_count": 9,
     "metadata": {},
     "output_type": "execute_result"
    }
   ],
   "source": [
    "from src.general.ModelTextGenerator.model_text_generator import Claude3SonnetInvoker\n",
    "claude_invoker = Claude3SonnetInvoker()\n",
    "response = claude_invoker.invoke_claude(\"Olá, mundo!\")\n",
    "response"
   ]
  },
  {
   "cell_type": "markdown",
   "metadata": {},
   "source": [
    "## Model Image Generator"
   ]
  },
  {
   "cell_type": "code",
   "execution_count": 11,
   "metadata": {},
   "outputs": [
    {
     "name": "stdout",
     "output_type": "stream",
     "text": [
      "The generated image has been saved to output\\stability_1.png\n",
      "Imagem gerada salva em: output\\stability_1.png\n"
     ]
    }
   ],
   "source": [
    "from src.general.ModelImageGenerator.model_image_generator import StableDiffusionImageGenerator\n",
    "# Inicializa o gerador de imagens\n",
    "image_generator = StableDiffusionImageGenerator(region_name=\"us-east-1\")\n",
    "\n",
    "# Define o prompt para gerar a imagem\n",
    "prompt = \"A beautiful landscape with mountains and a river during sunset.\"\n",
    "\n",
    "# Gera a imagem\n",
    "base64_image = image_generator.generate_image(prompt)\n",
    "\n",
    "# Salva a imagem gerada\n",
    "image_path = image_generator.save_image(base64_image)\n",
    "\n",
    "print(f\"Imagem gerada salva em: {image_path}\")"
   ]
  },
  {
   "cell_type": "markdown",
   "metadata": {},
   "source": [
    "## Pipeline History"
   ]
  },
  {
   "cell_type": "code",
   "execution_count": 2,
   "metadata": {},
   "outputs": [
    {
     "name": "stdout",
     "output_type": "stream",
     "text": [
      "Página 1:\n",
      "ROMA ANTIGA Prof. João Rocha\n",
      "\n",
      "Página 2:\n",
      "LINHA DO TEMPO 753 a.C. 509 a.C. 27 a.C. 476 d.C. MONARQUIA  Fundação de Roma  Domínio Etrusco  Conflitos plebeus patrícios  Formação das estruturas sociais e políticas romanasREPÚBLICA  Predomínio do Senado  Guerras Púnicas  Expansionismo militar  Roma como superpotência  Revoltas de escravosIMPÉRIO  Auge da dominação romana  PaxRomana  Problemas fronteiriços com bárbaros  Divisão do Império  Queda de Roma a.C. d.C.\n",
      "\n",
      "Página 3:\n",
      "FORMAÇÃO APenínsula Itálica foiocupada por diversos povos, a partir doséculo XIa.C.Amistura destes povos levou à configuração étnica ecultural deRoma . POVO LOCAL CONTRIBUIÇÕES PRINCIPAIS Etruscos Norte da Península ItálicaMilitarismo Urbanização Italiotas latinos, sabinos, etc.Região central da Península ItálicaIdioma Gregos Sul da Península Itálica  Magna Graecia Arquitetura Religião Sistema político\n",
      "\n",
      "Página 4:\n",
      "\n",
      "\n",
      "Página 5:\n",
      "Roma foi fundada em 753 a.C., a partir da união de diferentes aldeias agropastoris, motivada pela invasão etrusca da região. Os etruscos centralizaram o governo, ampliaram a população e promoveram obras importantes, como drenagem de pântanos, construção de pontes e da primeira muralha da cidade.Mito de Rômulo e Remo  explicação tradicional sobre a origem do povo romano\n",
      "\n",
      "Página 6:\n",
      "A MONARQUIA 753 509 a.C.\n",
      "\n",
      "Página 7:\n",
      "A MONARQUIA 753 509 a.C. Rei compartilhava o poder com o Senado e uma Assembleia. O Senado do latim senex , velho era composto por patrícios com mais de 45 anos. Com o passar do tempo, se tornou a principal instituição romana. A Assembleia era um conselho militar formado por jovens líderes guerreiros, que decidiam sobre a guerra ou paz. Disputas de poder contínuas entre etruscos e os povos locais. Reis passam a conceder benefícios à população comum à revelia do Senado, concentrando poder em suas mãos.\n",
      "\n",
      "Página 8:\n",
      "Representação do Senado romano em funcionamento\n",
      "\n",
      "Página 9:\n",
      "ESTRUTURA SOCIAL ROMANA Patrícios Elite, composta por grandes proprietários rurais. Plebeus Maioria da população romana, composta de camponeses, artesãos e comerciantes livres Clientes Indivíduos livres, às vezes estrangeiros, que prestavam serviços diretos aos Patrícios em troca de benefícios Escravos Oriundos de guerras, ou cativos por dívidas\n",
      "\n",
      "Página 10:\n",
      "Temendo perder importância, os patrícios romanos depuseram o último rei romano, Tarquínio, e implantaram um novo sistema de governo, inspirado no modelo grego a República . O Senado assume o comando político, e se torna o principal órgão romano. RES PVBLICAE  coisa pública, administração coletiva e transparente Senatvs Popvlvsqve Romanvs Senado e o Povo Romano\n",
      "\n",
      "Página 11:\n",
      "A REPÚBLICA 509 A 27 a.C.\n",
      "\n",
      "Página 12:\n",
      "A REPÚBLICA 509 a 27 a.C. A república manteve os privilégios da elite, porém reorganizou o sistema político. O resultado foi uma intensificação dos conflitos sociais, com a plebe e os escravos pressionando o patriciado por reformas e melhores condições de vida. Plebeus recusavam se a trabalhar nos campos, a servir o exército, e ameaçaram fundar uma cidade própria caso as negociações não avançassem.\n",
      "\n",
      "Página 13:\n",
      "SENADO Expandido para 300 membros. Tomava as decisões finais sobre guerra, impostos e leis. ASSEMBLEIAS Assembleia das tribos Assembleia da plebe Assembleia centuriataMAGISTRATURAS Pretores Justiça Censores Estatística e presidência do Senado Edis Organização urbana Questor Coleta de impostosCONSULADO Dois cônsules eleitos pelos magistrados para mandatos de apenas um ano. Um dos cônsules cuidava da administração pública, e outro do exército.\n",
      "\n",
      "Página 14:\n",
      "AS CONQUISTAS DA PLEBE Após muitas lutas, recusando se a trabalhar e a lutar nas guerras, os plebeus foram conquistando uma série de direitos O fim da escravidão por dívidas A permissão do casamento entre plebeus e patrícios A criação de uma magistratura para a plebe o Tribuno da Plebe, que poderia vetar decisões do Senado consideradas ruins para os plebeus O acesso dos plebeus ao cargo de sacerdotes A obrigatoriedade da escolha de um Cônsul plebeu O primeiro código escrito de leis romanas, em 450 a.C. a Lei das Doze Tábuas , que garantia igualdade jurídica a todos os homens livres teoricamente.\n",
      "\n",
      "Página 15:\n",
      "SENADO Expandido para 300 membros. Tomava as decisões finais sobre guerra, impostos e leis. Acesso dos plebeus ASSEMBLEIAS Assembleia das tribos Assembleia da plebe ganha maior importância Assembleia centuriataMAGISTRATURAS Pretores Justiça Censores Estatística e presidência do Senado Edis Organização urbana Questor Coleta de impostos Tribuno da PlebeCONSULADO Cônsul Patrício e Cônsul Plebeu\n",
      "\n",
      "Página 16:\n",
      "Cópia da Lei das Doze Tábuas, em placas de bronze\n",
      "\n",
      "Página 17:\n",
      "\n",
      "\n",
      "Página 18:\n",
      "AS GUERRAS PÚNICAS 264 a 146 a.C. Três guerras entre Roma, uma potência em ascensão, e Cartago, que dominava o comércio no Mediterâneo . 1ª Guerra Púnica Vitória romana. Roma anexa as ilhas da Córsega, Sardenha e Sicília. 2ª Guerra Púnica O general cartaginês Aníbal tenta atacar Roma pelo norte, cruzando os Alpes. Nova vitória romana. Roma anexa o território cartaginês na Península Ibérica. 3ª Guerra Púnica Roma destrói Cartago e vende sua população como escravos.\n",
      "\n",
      "Página 19:\n",
      "Tropas de Aníbal marcham pelos Alpes para atacar Roma\n",
      "\n",
      "Página 20:\n",
      "Representação da cidade de Cartago . Note as muralhas que protegem a cidade, e seu enorme porto circular fortificado.\n",
      "\n",
      "Página 21:\n",
      "CONSEQUÊNCIAS DAS GUERRAS PÚNICAS Destruição de Cartago Roma se transforma na principal potência do Mediterrâneo Início do expansionismo militar romano. Em poucos séculos, Roma iria conquistar a Grécia, o Egito, a Síria e quase todo o entorno do Mediterrâneo. Economia romana deixa de ser apenas agropastoril e passa a ter um enfoque comercial.\n",
      "\n",
      "Página 22:\n",
      "O EXPANSIONISMO ROMANO A entrada de novas riquezas e a profissionalização do exército romano levaram à conquista de muitos territórios. Roma dominou grande parte da Europa e do entorno do Mediterrâneo, ainda durante a República. Mapa da evolução territorial romana desde o início da República. Os números mostram as datas valores negativos estão antes de Cristo\n",
      "\n",
      "Página 23:\n",
      "A conquista de novos territórios transformou Roma em diversos aspectos. A economia romana, antes agrícola e pastoril passou a ser essencialmente comercial. Os comandantes militares, responsáveis pelas conquistas romanas, adquiriram cada vez mais poder. Eles eram responsáveis por distribuir parte das terras e riquezas entre seus soldados e, por isso, recebiam grande obediência. Muitos plebeus enriqueceram com o expansionismo, passando a fornecer produtos alimentos, armas e serviços construção de estradas e pontes ao Estado romano. Tornaram se u grupo social cada vez ais importante a nobreza .\n",
      "\n",
      "Página 24:\n",
      "Os romanos apelidaram o Mediterrâneo de mare nostrvm nosso mar, demonstrando seu poder. Roma viveu um crescimento acelerado no número de escravos, capturados em suas guerras de conquista. Com escravos desempenhando grande parte das atividades econômicas, sobrou pouco espaço para a maioria dos integrantes da plebe. Muitos plebeus se viram obrigados a abandonar o campo e partir para a cidade em busca de sobrevivência Êxodo rural\n",
      "\n",
      "Página 25:\n",
      "LUTAS INTERNAS Com a desigualdade social aumentando e o desemprego, especialmente no campo, surgiram propostas de reforma agrária ou seja, de uma redistribuição das terras de Roma. Os maiores defensores dessa ideia foram os irmãos Tibério e Caio Graco . Eleitos tribunos da plebe, propuseram a reforma e a distribuição de alimentos aos romanos pobres. Sofreram forte oposição do patriciado, e acabaram mortos  Tibério assassinado e Caio forçado a se suicidar.\n",
      "\n",
      "Página 26:\n",
      "Representação dos irmãos Tibério e Caio Graco. Note que eles seguram um papel, que simboliza suas propostas interrompidas pela morte violenta que sofreram.\n",
      "\n",
      "Página 27:\n",
      "Ocorreram, também, diversas revoltas de escravos em Roma. Eles lutavam por melhores condições de vida ou por sua liberdade. A maior rebelião foi liderada pelo escravo Espártaco , que chegou a formar um exército de 60 mil homens, mas acabou derrotado e morto pelas tropas romanas. Representação de Espártaco , líder da mais famosa rebelião de escravos sofrida por Roma\n",
      "\n",
      "Página 28:\n",
      "O exército se fortaleceu pelas conquistas externas e o combate às revoltas internas. Três generais Crasso, Pompeu e Júlio César, o chamado Triunvirato passaram a governar Roma em conjunto, se tornando mais poderosos que o Senado. Júlio César derrotou os outros dois e concentrou o poder em suas mãos, tornando  se ditador vitalício de Roma. Tendo perdido poder, o Senado conspirou para que César fosse assassinado.\n",
      "\n",
      "Página 29:\n",
      "Representação do assassinato de Júlio César, que aparece caído no chão em roupas coloridas, sendo atacado pelos conspiradores no Senado romano\n",
      "\n",
      "Página 30:\n",
      "Com a morte de César, um novo triunvirato foi formado incluindo seu filho adotivo, Marco Antônio. Após uma sangrenta guerra civil, Marco Antônio assume todo o poder e é proclamado Imperador de Roma . Assim, o Senado perde importância, e se encerra a fase republicana da História de Roma. Tem início o Império .\n",
      "\n",
      "Página 31:\n",
      "Guerras PúnicasVitória romana Roma se torna a maior potência do Mediterrâneo Início do expansionismo romano Economia se torna comercial Número de escravos aumenta vertiginosamente Ascensão social de determinados plebeus e comandantes militaresInstabilidade política Desemprego Concentração de terras e riquezas Rebeliões de escravos  Espártaco  Chegada de militares ao poder Triunvirato Júlio César Marco Antônio IMPÉRIO\n",
      "\n",
      "Página 32:\n",
      "O IMPÉRIO 27 a.C. a 476 d.C. Baixo Império Séculos I a.C. a III d.C. Alto Império Séculos III a V d.C.\n",
      "\n",
      "Página 33:\n",
      "O ALTO IMPÉRIO SÉCULOS I a.C. a III d.C. Período de máxima extensão territorial. Roma dominava quase toda a Europa, o norte da África e partes do Oriente Médio. Construção ou crescimento de cidades por todo o Império ou seja, urbanização, contando com sistemas de abastecimento de água, esgotos, termas e ricos prédios públicos .\n",
      "\n",
      "Página 34:\n",
      "Política de  pão e circo  nobreza realizava festivais, concedia feriados e distribuía alimentos para manter a população calma e obediente. Pax Romana Paz Romana Período de tranquilidade, com o fim das guerras internas e a desaceleração dos conflitos externos. Durante os festivais promovidos pela elite para o povo, uma das principais atrações eram os combates de gladiadores. Aqui, vemos um cartaz convidando o público para o espetáculo violento.\n",
      "\n",
      "Página 35:\n",
      "O BAIXO IMPÉRIO SÉCULOS III d.C. a V d.C. Período de crise em que o Império Romano começa a enfrentar grandes dificuldades Economia Fim das guerras de expansão faz reduzir o número de escravos menos prisioneiros  menos escravos, causando uma crise na produção agrícola. Política Começam contínuas disputas pelo poder em Roma. Diversos Imperadores foram depostos ou assassinados, e as disputas trouxeram o caos à política romana.\n",
      "\n",
      "Página 36:\n",
      "Do ponto de vista administrativo, o Império havia conquistado um território tão grande que era difícil governar e manter a ordem nas províncias. Em locais distantes da capital, governantes locais começaram a mandar mais que o próprio imperador. Além disso, cada vez mais bárbaros os romanos consideravam bárbaros todos aqueles povos que não falavam latim, nem seguiam os hábitos romanos começaram a entrar no Império, de duas formas Alguns vinham pacificamente, através de acordos. Podiam viver nas terras romanas, e mesmo servir ao exército romano. Outros adentravam o território através de violentos ataques, que destruíam e saqueavam cidades romanas.\n",
      "\n",
      "Página 37:\n",
      "A QUEDA DE ROMA Com o passar do tempo, os problemas se tornaram insustentáveis. O exército romano já não conseguia mais conter as invasões bárbaras , e o Império se empobrecia. Em 284 d.C., na tentativa de amenizar o problema, o Império foi dividido em duas partes o Império Romano do Ocidente , com capital em Roma, e o Império Romano do Oriente , sediado em Constantinopla.\n",
      "\n",
      "Página 38:\n",
      "Divisão do Império Romano. Note as duas capitais Roma e Constantinopla\n",
      "\n",
      "Página 39:\n",
      "A divisão, contudo, não foi suficiente para conter a crise do Império. Os constantes ataques bárbaros, em especial dos povos germanos, hunos e celtas, enfraqueceu o Império. No ano de 476 d.C. a própria cidade de Roma foi atacada e saqueada, e o Imperador do Ocidente foi deposto . Foi o fim do Império Romano do Ocidente e da Idade Antiga, tendo início o longo período da história europeia conhecido como Idade Média .\n",
      "\n"
     ]
    }
   ],
   "source": [
    "from src.general.PipelineHistory.pipeline_history import PDFTextProcessingPipeline\n",
    "pdf_filename = \"./src/documents/Roma Antiga.pdf\"  # Insira o caminho do seu arquivo PDF\n",
    "\n",
    "    # Inicializa o pipeline de processamento do PDF\n",
    "pipeline = PDFTextProcessingPipeline(pdf_filename)\n",
    "\n",
    "    # Processa o PDF e obtém o texto limpo\n",
    "cleaned_text = pipeline.process_pdf()\n",
    "\n",
    "    # Exibe o texto limpo\n",
    "for page_number, text in enumerate(cleaned_text, 1):\n",
    "     print(f\"Página {page_number}:\\n{text}\\n\")"
   ]
  },
  {
   "cell_type": "code",
   "execution_count": 14,
   "metadata": {},
   "outputs": [
    {
     "data": {
      "text/plain": [
       "['ROMA ANTIGA Prof. João Rocha',\n",
       " 'LINHA DO TEMPO 753 a.C. 509 a.C. 27 a.C. 476 d.C. MONARQUIA  Fundação de Roma  Domínio Etrusco  Conflitos plebeus patrícios  Formação das estruturas sociais e políticas romanasREPÚBLICA  Predomínio do Senado  Guerras Púnicas  Expansionismo militar  Roma como superpotência  Revoltas de escravosIMPÉRIO  Auge da dominação romana  PaxRomana  Problemas fronteiriços com bárbaros  Divisão do Império  Queda de Roma a.C. d.C.',\n",
       " 'FORMAÇÃO APenínsula Itálica foiocupada por diversos povos, a partir doséculo XIa.C.Amistura destes povos levou à configuração étnica ecultural deRoma . POVO LOCAL CONTRIBUIÇÕES PRINCIPAIS Etruscos Norte da Península ItálicaMilitarismo Urbanização Italiotas latinos, sabinos, etc.Região central da Península ItálicaIdioma Gregos Sul da Península Itálica  Magna Graecia Arquitetura Religião Sistema político',\n",
       " '',\n",
       " 'Roma foi fundada em 753 a.C., a partir da união de diferentes aldeias agropastoris, motivada pela invasão etrusca da região. Os etruscos centralizaram o governo, ampliaram a população e promoveram obras importantes, como drenagem de pântanos, construção de pontes e da primeira muralha da cidade.Mito de Rômulo e Remo  explicação tradicional sobre a origem do povo romano',\n",
       " 'A MONARQUIA 753 509 a.C.',\n",
       " 'A MONARQUIA 753 509 a.C. Rei compartilhava o poder com o Senado e uma Assembleia. O Senado do latim senex , velho era composto por patrícios com mais de 45 anos. Com o passar do tempo, se tornou a principal instituição romana. A Assembleia era um conselho militar formado por jovens líderes guerreiros, que decidiam sobre a guerra ou paz. Disputas de poder contínuas entre etruscos e os povos locais. Reis passam a conceder benefícios à população comum à revelia do Senado, concentrando poder em suas mãos.',\n",
       " 'Representação do Senado romano em funcionamento',\n",
       " 'ESTRUTURA SOCIAL ROMANA Patrícios Elite, composta por grandes proprietários rurais. Plebeus Maioria da população romana, composta de camponeses, artesãos e comerciantes livres Clientes Indivíduos livres, às vezes estrangeiros, que prestavam serviços diretos aos Patrícios em troca de benefícios Escravos Oriundos de guerras, ou cativos por dívidas',\n",
       " 'Temendo perder importância, os patrícios romanos depuseram o último rei romano, Tarquínio, e implantaram um novo sistema de governo, inspirado no modelo grego a República . O Senado assume o comando político, e se torna o principal órgão romano. RES PVBLICAE  coisa pública, administração coletiva e transparente Senatvs Popvlvsqve Romanvs Senado e o Povo Romano',\n",
       " 'A REPÚBLICA 509 A 27 a.C.',\n",
       " 'A REPÚBLICA 509 a 27 a.C. A república manteve os privilégios da elite, porém reorganizou o sistema político. O resultado foi uma intensificação dos conflitos sociais, com a plebe e os escravos pressionando o patriciado por reformas e melhores condições de vida. Plebeus recusavam se a trabalhar nos campos, a servir o exército, e ameaçaram fundar uma cidade própria caso as negociações não avançassem.',\n",
       " 'SENADO Expandido para 300 membros. Tomava as decisões finais sobre guerra, impostos e leis. ASSEMBLEIAS Assembleia das tribos Assembleia da plebe Assembleia centuriataMAGISTRATURAS Pretores Justiça Censores Estatística e presidência do Senado Edis Organização urbana Questor Coleta de impostosCONSULADO Dois cônsules eleitos pelos magistrados para mandatos de apenas um ano. Um dos cônsules cuidava da administração pública, e outro do exército.',\n",
       " 'AS CONQUISTAS DA PLEBE Após muitas lutas, recusando se a trabalhar e a lutar nas guerras, os plebeus foram conquistando uma série de direitos O fim da escravidão por dívidas A permissão do casamento entre plebeus e patrícios A criação de uma magistratura para a plebe o Tribuno da Plebe, que poderia vetar decisões do Senado consideradas ruins para os plebeus O acesso dos plebeus ao cargo de sacerdotes A obrigatoriedade da escolha de um Cônsul plebeu O primeiro código escrito de leis romanas, em 450 a.C. a Lei das Doze Tábuas , que garantia igualdade jurídica a todos os homens livres teoricamente.',\n",
       " 'SENADO Expandido para 300 membros. Tomava as decisões finais sobre guerra, impostos e leis. Acesso dos plebeus ASSEMBLEIAS Assembleia das tribos Assembleia da plebe ganha maior importância Assembleia centuriataMAGISTRATURAS Pretores Justiça Censores Estatística e presidência do Senado Edis Organização urbana Questor Coleta de impostos Tribuno da PlebeCONSULADO Cônsul Patrício e Cônsul Plebeu',\n",
       " 'Cópia da Lei das Doze Tábuas, em placas de bronze',\n",
       " '',\n",
       " 'AS GUERRAS PÚNICAS 264 a 146 a.C. Três guerras entre Roma, uma potência em ascensão, e Cartago, que dominava o comércio no Mediterâneo . 1ª Guerra Púnica Vitória romana. Roma anexa as ilhas da Córsega, Sardenha e Sicília. 2ª Guerra Púnica O general cartaginês Aníbal tenta atacar Roma pelo norte, cruzando os Alpes. Nova vitória romana. Roma anexa o território cartaginês na Península Ibérica. 3ª Guerra Púnica Roma destrói Cartago e vende sua população como escravos.',\n",
       " 'Tropas de Aníbal marcham pelos Alpes para atacar Roma',\n",
       " 'Representação da cidade de Cartago . Note as muralhas que protegem a cidade, e seu enorme porto circular fortificado.',\n",
       " 'CONSEQUÊNCIAS DAS GUERRAS PÚNICAS Destruição de Cartago Roma se transforma na principal potência do Mediterrâneo Início do expansionismo militar romano. Em poucos séculos, Roma iria conquistar a Grécia, o Egito, a Síria e quase todo o entorno do Mediterrâneo. Economia romana deixa de ser apenas agropastoril e passa a ter um enfoque comercial.',\n",
       " 'O EXPANSIONISMO ROMANO A entrada de novas riquezas e a profissionalização do exército romano levaram à conquista de muitos territórios. Roma dominou grande parte da Europa e do entorno do Mediterrâneo, ainda durante a República. Mapa da evolução territorial romana desde o início da República. Os números mostram as datas valores negativos estão antes de Cristo',\n",
       " 'A conquista de novos territórios transformou Roma em diversos aspectos. A economia romana, antes agrícola e pastoril passou a ser essencialmente comercial. Os comandantes militares, responsáveis pelas conquistas romanas, adquiriram cada vez mais poder. Eles eram responsáveis por distribuir parte das terras e riquezas entre seus soldados e, por isso, recebiam grande obediência. Muitos plebeus enriqueceram com o expansionismo, passando a fornecer produtos alimentos, armas e serviços construção de estradas e pontes ao Estado romano. Tornaram se u grupo social cada vez ais importante a nobreza .',\n",
       " 'Os romanos apelidaram o Mediterrâneo de mare nostrvm nosso mar, demonstrando seu poder. Roma viveu um crescimento acelerado no número de escravos, capturados em suas guerras de conquista. Com escravos desempenhando grande parte das atividades econômicas, sobrou pouco espaço para a maioria dos integrantes da plebe. Muitos plebeus se viram obrigados a abandonar o campo e partir para a cidade em busca de sobrevivência Êxodo rural',\n",
       " 'LUTAS INTERNAS Com a desigualdade social aumentando e o desemprego, especialmente no campo, surgiram propostas de reforma agrária ou seja, de uma redistribuição das terras de Roma. Os maiores defensores dessa ideia foram os irmãos Tibério e Caio Graco . Eleitos tribunos da plebe, propuseram a reforma e a distribuição de alimentos aos romanos pobres. Sofreram forte oposição do patriciado, e acabaram mortos  Tibério assassinado e Caio forçado a se suicidar.',\n",
       " 'Representação dos irmãos Tibério e Caio Graco. Note que eles seguram um papel, que simboliza suas propostas interrompidas pela morte violenta que sofreram.',\n",
       " 'Ocorreram, também, diversas revoltas de escravos em Roma. Eles lutavam por melhores condições de vida ou por sua liberdade. A maior rebelião foi liderada pelo escravo Espártaco , que chegou a formar um exército de 60 mil homens, mas acabou derrotado e morto pelas tropas romanas. Representação de Espártaco , líder da mais famosa rebelião de escravos sofrida por Roma',\n",
       " 'O exército se fortaleceu pelas conquistas externas e o combate às revoltas internas. Três generais Crasso, Pompeu e Júlio César, o chamado Triunvirato passaram a governar Roma em conjunto, se tornando mais poderosos que o Senado. Júlio César derrotou os outros dois e concentrou o poder em suas mãos, tornando  se ditador vitalício de Roma. Tendo perdido poder, o Senado conspirou para que César fosse assassinado.',\n",
       " 'Representação do assassinato de Júlio César, que aparece caído no chão em roupas coloridas, sendo atacado pelos conspiradores no Senado romano',\n",
       " 'Com a morte de César, um novo triunvirato foi formado incluindo seu filho adotivo, Marco Antônio. Após uma sangrenta guerra civil, Marco Antônio assume todo o poder e é proclamado Imperador de Roma . Assim, o Senado perde importância, e se encerra a fase republicana da História de Roma. Tem início o Império .',\n",
       " 'Guerras PúnicasVitória romana Roma se torna a maior potência do Mediterrâneo Início do expansionismo romano Economia se torna comercial Número de escravos aumenta vertiginosamente Ascensão social de determinados plebeus e comandantes militaresInstabilidade política Desemprego Concentração de terras e riquezas Rebeliões de escravos  Espártaco  Chegada de militares ao poder Triunvirato Júlio César Marco Antônio IMPÉRIO',\n",
       " 'O IMPÉRIO 27 a.C. a 476 d.C. Baixo Império Séculos I a.C. a III d.C. Alto Império Séculos III a V d.C.',\n",
       " 'O ALTO IMPÉRIO SÉCULOS I a.C. a III d.C. Período de máxima extensão territorial. Roma dominava quase toda a Europa, o norte da África e partes do Oriente Médio. Construção ou crescimento de cidades por todo o Império ou seja, urbanização, contando com sistemas de abastecimento de água, esgotos, termas e ricos prédios públicos .',\n",
       " 'Política de  pão e circo  nobreza realizava festivais, concedia feriados e distribuía alimentos para manter a população calma e obediente. Pax Romana Paz Romana Período de tranquilidade, com o fim das guerras internas e a desaceleração dos conflitos externos. Durante os festivais promovidos pela elite para o povo, uma das principais atrações eram os combates de gladiadores. Aqui, vemos um cartaz convidando o público para o espetáculo violento.',\n",
       " 'O BAIXO IMPÉRIO SÉCULOS III d.C. a V d.C. Período de crise em que o Império Romano começa a enfrentar grandes dificuldades Economia Fim das guerras de expansão faz reduzir o número de escravos menos prisioneiros  menos escravos, causando uma crise na produção agrícola. Política Começam contínuas disputas pelo poder em Roma. Diversos Imperadores foram depostos ou assassinados, e as disputas trouxeram o caos à política romana.',\n",
       " 'Do ponto de vista administrativo, o Império havia conquistado um território tão grande que era difícil governar e manter a ordem nas províncias. Em locais distantes da capital, governantes locais começaram a mandar mais que o próprio imperador. Além disso, cada vez mais bárbaros os romanos consideravam bárbaros todos aqueles povos que não falavam latim, nem seguiam os hábitos romanos começaram a entrar no Império, de duas formas Alguns vinham pacificamente, através de acordos. Podiam viver nas terras romanas, e mesmo servir ao exército romano. Outros adentravam o território através de violentos ataques, que destruíam e saqueavam cidades romanas.',\n",
       " 'A QUEDA DE ROMA Com o passar do tempo, os problemas se tornaram insustentáveis. O exército romano já não conseguia mais conter as invasões bárbaras , e o Império se empobrecia. Em 284 d.C., na tentativa de amenizar o problema, o Império foi dividido em duas partes o Império Romano do Ocidente , com capital em Roma, e o Império Romano do Oriente , sediado em Constantinopla.',\n",
       " 'Divisão do Império Romano. Note as duas capitais Roma e Constantinopla',\n",
       " 'A divisão, contudo, não foi suficiente para conter a crise do Império. Os constantes ataques bárbaros, em especial dos povos germanos, hunos e celtas, enfraqueceu o Império. No ano de 476 d.C. a própria cidade de Roma foi atacada e saqueada, e o Imperador do Ocidente foi deposto . Foi o fim do Império Romano do Ocidente e da Idade Antiga, tendo início o longo período da história europeia conhecido como Idade Média .']"
      ]
     },
     "execution_count": 14,
     "metadata": {},
     "output_type": "execute_result"
    }
   ],
   "source": [
    "cleaned_text"
   ]
  },
  {
   "cell_type": "markdown",
   "metadata": {},
   "source": [
    "## Prompt Language"
   ]
  },
  {
   "cell_type": "code",
   "execution_count": 2,
   "metadata": {},
   "outputs": [
    {
     "name": "stdout",
     "output_type": "stream",
     "text": [
      "\n",
      "        Tienes la tarea de crear una historia educativa para niños autistas basada en un contenido educativo determinado. Tu objetivo es dividir el contenido en 12 partes y crear un segmento de historia para cada parte. Aquí tienes tus instrucciones:\n",
      "\n",
      "        1. Primero, recibirás un contenido educativo. Léelo con cuidado para entender los conceptos e información clave.\n",
      "\n",
      "        <educational_content>\n",
      "        Aqui está o conteúdo educacional que será usado para criar a história.\n",
      "        </educational_content>\n",
      "\n",
      "        2. Divide el contenido educativo en 12 partes distintas. Cada parte debe contener un concepto clave o información del contenido original.\n",
      "\n",
      "        3. Para cada una de las 12 partes, crea un segmento de historia breve que incorpore la información educativa de manera atractiva y fácil de entender para los niños autistas. Ten en cuenta las siguientes pautas:\n",
      "\n",
      "        a. Usa un lenguaje simple y claro.\n",
      "        b. Evita metáforas, expresiones idiomáticas o conceptos abstractos que puedan ser difíciles de entender.\n",
      "        c. Incluye ejemplos concretos y descripciones visuales.\n",
      "        d. Usa la repetición para reforzar los puntos importantes.\n",
      "        e. Incorpora detalles sensoriales cuando sea apropiado.\n",
      "        f. Haz que la historia sea interactiva haciendo preguntas simples o incentivando la imaginación.\n",
      "\n",
      "        4. Cada segmento de la historia debe ser educativo y estar directamente relacionado con el contenido del material original.\n",
      "\n",
      "        5. Formatea cada parte de la historia usando etiquetas HTML. Usa el siguiente formato:\n",
      "\n",
      "        <part>\n",
      "        [Inserta tu segmento de historia aquí]\n",
      "        </part>\n",
      "\n",
      "        6. Asegúrate de crear exactamente 12 partes, cada una incluida en su propio conjunto de etiquetas <part>.\n",
      "\n",
      "        7. Sé creativo con tu narrativa, pero siempre prioriza el valor educativo y asegúrate de que la información clave del contenido original se transmita con precisión.\n",
      "        \n"
     ]
    }
   ],
   "source": [
    "from src.GenerateHistory.Prompts.generate_history import EducationalStoryPromptFormatter\n",
    "    # Exemplo de conteúdo educacional\n",
    "educational_content = \"Aqui está o conteúdo educacional que será usado para criar a história.\"\n",
    "\n",
    "    # Escolher o idioma do prompt (português, inglês ou espanhol)\n",
    "language = \"espanhol\"  # Alterar para \"inglês\" ou \"espanhol\" conforme necessário\n",
    "\n",
    "    # Inicializa o formatador de prompts\n",
    "prompt_formatter = EducationalStoryPromptFormatter(language)\n",
    "\n",
    "    # Gera o prompt formatado\n",
    "try:\n",
    "    formatted_prompt = prompt_formatter.format_prompt(educational_content)\n",
    "    print(formatted_prompt)\n",
    "except ValueError as e:\n",
    "     print(e)\n"
   ]
  },
  {
   "cell_type": "markdown",
   "metadata": {},
   "source": [
    "## Run History"
   ]
  },
  {
   "cell_type": "code",
   "execution_count": 1,
   "metadata": {},
   "outputs": [
    {
     "name": "stdout",
     "output_type": "stream",
     "text": [
      "Extraindo e limpando o texto do PDF...\n",
      "Texto extraído com sucesso.\n",
      "Detectando o idioma do texto...\n"
     ]
    },
    {
     "name": "stderr",
     "output_type": "stream",
     "text": [
      "INFO:botocore.credentials:Found credentials in shared credentials file: ~/.aws/credentials\n"
     ]
    },
    {
     "name": "stdout",
     "output_type": "stream",
     "text": [
      "Idioma detectado: português.\n",
      "Gerando o prompt educacional...\n",
      "Prompt gerado com sucesso.\n",
      "Gerando a história educacional com Claude 3...\n",
      "História gerada com sucesso.\n",
      "Extraindo as tags <part> da história gerada...\n",
      "Total de 6 partes extraídas.\n",
      "Parte da História: \n",
      "Olá, crianças! Hoje vou contar uma história sobre um lugar muito antigo chamado Roma. Era uma cidade incrível, fundada em 753 a.C. por duas crianças chamadas Rômulo e Remo. Vocês conhecem essa lenda? Dizem que quando eram bebês, eles foram abandonados às margens de um rio e foram amamentados por uma loba! Que aventura, não é?\n",
      "\n",
      "Rômulo e Remo cresceram e fundaram a primeira povoação que viria a se tornar a grande cidade de Roma. No começo, Roma era governada por reis, escolhidos entre as famílias importantes. Imaginem um rei vivendo num enorme castelo, tomando decisões importantes junto com um grupo de homens velhos e sábios, chamado Senado.\n",
      "\n",
      "Prompt gerado para imagem: Prompt para a parte 1 gerado pelo Claude 3.\n",
      "\n",
      "Parte da História: \n",
      "Depois de muito tempo sendo governada por reis, os romanos decidiram mudar as regras. Eles depuseram o último rei e criaram um novo sistema chamado República. Agora, em vez de um rei, havia dois líderes poderosos chamados cônsules, escolhidos pelo povo a cada ano.\n",
      "\n",
      "Mas havia um problema: nem todos os romanos tinham os mesmos direitos. O povo era dividido em dois grandes grupos - os patrícios, que eram ricos e mandavam em tudo, e os plebeus, que eram pobres e não podiam participar muito das decisões. Imaginem como seria se na sua escola apenas alguns colegas pudessem brincar no parquinho e os outros ficassem de fora?\n",
      "\n",
      "Prompt gerado para imagem: Prompt para a parte 2 gerado pelo Claude 3.\n",
      "\n",
      "Parte da História: \n",
      "Os plebeus ficaram muito bravos com essa situação injusta e começaram a lutar por seus direitos. Depois de muitas batalhas, eles conseguiram que um novo cargo fosse criado - o Tribuno da Plebe. Esse líder podia defender os interesses dos plebeus e até mesmo vetar decisões do poderoso Senado!\n",
      "\n",
      "Além disso, os plebeus conquistaram outras vitórias importantes, como o direito de se casar com patrícios e até mesmo de se tornar sacerdotes. E a melhor parte é que eles conseguiram que fosse escrito um grande livro de leis, chamado Lei das Doze Tábuas, que valia para todos os homens livres de Roma. Ufa, que batalha difícil, mas no final tudo ficou mais justo!\n",
      "\n",
      "Prompt gerado para imagem: Prompt para a parte 3 gerado pelo Claude 3.\n",
      "\n",
      "Parte da História: \n",
      "Enquanto os plebeus lutavam por seus direitos, os romanos também estavam ocupados conquistando novos territórios em guerras contra outros povos poderosos, como os cartagineses. Foram três grandes guerras, chamadas Guerras Púnicas.\n",
      "\n",
      "Na primeira guerra, Roma venceu e ficou com as ilhas da Sardenha, Córsega e Sicília. Na segunda, um bravo general inimigo chamado Aníbal até cruzou os imensos Alpes com um grande exército de elefantes para atacar Roma! Mas os romanos conseguiram derrotá-lo novamente. E na terceira guerra, eles destruíram a cidade inteira de Cartago. Com essas vitórias, Roma se tornou a potência mais forte de toda a região do Mediterrâneo. Imagine que guerras épicas!\n",
      "\n",
      "Prompt gerado para imagem: Prompt para a parte 4 gerado pelo Claude 3.\n",
      "\n",
      "Parte da História: \n",
      "Com tantas vitórias e territórios conquistados, Roma ficou enorme e poderosa. Todo o mar que ficava entre a Europa, Ásia e África passou a ser chamado de \"Nosso Mar\" pelos romanos. Eles dominavam quase tudo!\n",
      "\n",
      "Mas com tanto poder, alguns generais do exército romano ficaram muito ambiciosos e começaram a lutar pelo controle de Roma. Um deles era Júlio César, que até se tornou um imperador ditador por um tempo.\n",
      "\n",
      "Os romanos não gostaram de perder seu poder para César, e ele acabou sendo assassinado numa traição. Depois de batalhas internas, o poder foi assumido por outro general chamado Marco Antônio, que se tornou o primeiro Imperador de Roma, iniciando o período conhecido como Império Romano.\n",
      "\n",
      "Prompt gerado para imagem: Prompt para a parte 5 gerado pelo Claude 3.\n",
      "\n",
      "Parte da História: \n",
      "O Império Romano se dividiu em dois períodos. O primeiro, chamado Alto Império, foi uma época de muita riqueza, estabilidade e construções impressionantes, como gigantescas cidades cheias de prédios públicos, estradas e aquedutos.\n",
      "\n",
      "Mas infelizmente, no segundo período, o Baixo Império, tudo começou a desmoronar. A economia piorou, houve muitas revoltas internas e os bárbaros - povos de outras regiões que os romanos consideravam inferiores - começaram a invadir as fronteiras do Império. Imagine estrangeiros tentando tomar sua cidade à força!\n",
      "\n",
      "Para piorar, o território romano ficou tão grande que ficou difícil de governar. Por isso, o Império acabou sendo dividido em duas partes - a do Ocidente, com capital em Roma, e a do Oriente, com capital em Constantinopla. Mas mesmo assim, os problemas não pararam. Em 476 d.C., a cidade de Roma foi invadida e saqueada, marcando o fim do Império Romano do Ocidente depois de mais de mil anos de domínio. A Idade Antiga havia terminado, e uma nova era, a Idade Média, começava na Europa.\n",
      "\n",
      "Prompt gerado para imagem: Prompt para a parte 6 gerado pelo Claude 3.\n",
      "\n"
     ]
    }
   ],
   "source": [
    "from src.GenerateHistory.Generate.run_history import PDFEducationalStoryGenerator\n",
    "\n",
    "\n",
    "pdf_filename = \"./src/documents/Roma Antiga.pdf\"   # Caminho para o PDF\n",
    "\n",
    "    # Inicializa o gerador de histórias educacionais a partir de um PDF\n",
    "story_generator = PDFEducationalStoryGenerator(pdf_filename)\n",
    "\n",
    "    # Executa o pipeline completo e retorna a estrutura com as partes da história e prompts\n",
    "story_structure = story_generator.run_pipeline()\n",
    "\n",
    "    # Exibe a estrutura retornada\n",
    "for part in story_structure:\n",
    "     print(f\"Parte da História: {part['story_part']}\")\n",
    "     print(f\"Prompt gerado para imagem: {part['prompt_img']}\\n\")"
   ]
  },
  {
   "cell_type": "code",
   "execution_count": 2,
   "metadata": {},
   "outputs": [
    {
     "data": {
      "text/plain": [
       "[{'story_part': '\\nOlá, crianças! Hoje vou contar uma história sobre um lugar muito antigo chamado Roma. Era uma cidade incrível, fundada em 753 a.C. por duas crianças chamadas Rômulo e Remo. Vocês conhecem essa lenda? Dizem que quando eram bebês, eles foram abandonados às margens de um rio e foram amamentados por uma loba! Que aventura, não é?\\n\\nRômulo e Remo cresceram e fundaram a primeira povoação que viria a se tornar a grande cidade de Roma. No começo, Roma era governada por reis, escolhidos entre as famílias importantes. Imaginem um rei vivendo num enorme castelo, tomando decisões importantes junto com um grupo de homens velhos e sábios, chamado Senado.\\n',\n",
       "  'prompt_img': 'Prompt para a parte 1 gerado pelo Claude 3.'},\n",
       " {'story_part': '\\nDepois de muito tempo sendo governada por reis, os romanos decidiram mudar as regras. Eles depuseram o último rei e criaram um novo sistema chamado República. Agora, em vez de um rei, havia dois líderes poderosos chamados cônsules, escolhidos pelo povo a cada ano.\\n\\nMas havia um problema: nem todos os romanos tinham os mesmos direitos. O povo era dividido em dois grandes grupos - os patrícios, que eram ricos e mandavam em tudo, e os plebeus, que eram pobres e não podiam participar muito das decisões. Imaginem como seria se na sua escola apenas alguns colegas pudessem brincar no parquinho e os outros ficassem de fora?\\n',\n",
       "  'prompt_img': 'Prompt para a parte 2 gerado pelo Claude 3.'},\n",
       " {'story_part': '\\nOs plebeus ficaram muito bravos com essa situação injusta e começaram a lutar por seus direitos. Depois de muitas batalhas, eles conseguiram que um novo cargo fosse criado - o Tribuno da Plebe. Esse líder podia defender os interesses dos plebeus e até mesmo vetar decisões do poderoso Senado!\\n\\nAlém disso, os plebeus conquistaram outras vitórias importantes, como o direito de se casar com patrícios e até mesmo de se tornar sacerdotes. E a melhor parte é que eles conseguiram que fosse escrito um grande livro de leis, chamado Lei das Doze Tábuas, que valia para todos os homens livres de Roma. Ufa, que batalha difícil, mas no final tudo ficou mais justo!\\n',\n",
       "  'prompt_img': 'Prompt para a parte 3 gerado pelo Claude 3.'},\n",
       " {'story_part': '\\nEnquanto os plebeus lutavam por seus direitos, os romanos também estavam ocupados conquistando novos territórios em guerras contra outros povos poderosos, como os cartagineses. Foram três grandes guerras, chamadas Guerras Púnicas.\\n\\nNa primeira guerra, Roma venceu e ficou com as ilhas da Sardenha, Córsega e Sicília. Na segunda, um bravo general inimigo chamado Aníbal até cruzou os imensos Alpes com um grande exército de elefantes para atacar Roma! Mas os romanos conseguiram derrotá-lo novamente. E na terceira guerra, eles destruíram a cidade inteira de Cartago. Com essas vitórias, Roma se tornou a potência mais forte de toda a região do Mediterrâneo. Imagine que guerras épicas!\\n',\n",
       "  'prompt_img': 'Prompt para a parte 4 gerado pelo Claude 3.'},\n",
       " {'story_part': '\\nCom tantas vitórias e territórios conquistados, Roma ficou enorme e poderosa. Todo o mar que ficava entre a Europa, Ásia e África passou a ser chamado de \"Nosso Mar\" pelos romanos. Eles dominavam quase tudo!\\n\\nMas com tanto poder, alguns generais do exército romano ficaram muito ambiciosos e começaram a lutar pelo controle de Roma. Um deles era Júlio César, que até se tornou um imperador ditador por um tempo.\\n\\nOs romanos não gostaram de perder seu poder para César, e ele acabou sendo assassinado numa traição. Depois de batalhas internas, o poder foi assumido por outro general chamado Marco Antônio, que se tornou o primeiro Imperador de Roma, iniciando o período conhecido como Império Romano.\\n',\n",
       "  'prompt_img': 'Prompt para a parte 5 gerado pelo Claude 3.'},\n",
       " {'story_part': '\\nO Império Romano se dividiu em dois períodos. O primeiro, chamado Alto Império, foi uma época de muita riqueza, estabilidade e construções impressionantes, como gigantescas cidades cheias de prédios públicos, estradas e aquedutos.\\n\\nMas infelizmente, no segundo período, o Baixo Império, tudo começou a desmoronar. A economia piorou, houve muitas revoltas internas e os bárbaros - povos de outras regiões que os romanos consideravam inferiores - começaram a invadir as fronteiras do Império. Imagine estrangeiros tentando tomar sua cidade à força!\\n\\nPara piorar, o território romano ficou tão grande que ficou difícil de governar. Por isso, o Império acabou sendo dividido em duas partes - a do Ocidente, com capital em Roma, e a do Oriente, com capital em Constantinopla. Mas mesmo assim, os problemas não pararam. Em 476 d.C., a cidade de Roma foi invadida e saqueada, marcando o fim do Império Romano do Ocidente depois de mais de mil anos de domínio. A Idade Antiga havia terminado, e uma nova era, a Idade Média, começava na Europa.\\n',\n",
       "  'prompt_img': 'Prompt para a parte 6 gerado pelo Claude 3.'}]"
      ]
     },
     "execution_count": 2,
     "metadata": {},
     "output_type": "execute_result"
    }
   ],
   "source": [
    "story_structure"
   ]
  },
  {
   "cell_type": "markdown",
   "metadata": {},
   "source": [
    "## Generate Prompt Image:"
   ]
  },
  {
   "cell_type": "code",
   "execution_count": 3,
   "metadata": {},
   "outputs": [
    {
     "name": "stdout",
     "output_type": "stream",
     "text": [
      "\n",
      "        Você tem a tarefa de criar um prompt de imagem com base em um segmento de uma história. Seu objetivo é gerar uma descrição detalhada e vívida que possa ser usada para criar uma imagem que represente com precisão o segmento da história. Este prompt de imagem deve ser adequado para uma criança autista, portanto, precisa ser claro, concreto e fácil de entender.\n",
      "\n",
      "        <story_segment>\n",
      "        O cavaleiro corajoso montava seu cavalo branco através do campo verdejante em direção ao castelo.\n",
      "        </story_segment>\n",
      "\n",
      "        Diretrizes para criar o prompt de imagem:\n",
      "        1. Concentre-se nos principais elementos e personagens do segmento da história.\n",
      "        2. Descreva o cenário e a atmosfera em detalhes.\n",
      "        3. Especifique o ângulo ou a perspectiva da cena.\n",
      "        4. Use uma linguagem simples e direta.\n",
      "        5. Evite conceitos abstratos ou metáforas.\n",
      "        6. Inclua detalhes sensoriais que uma criança autista pode achar envolventes.\n",
      "\n",
      "        Escreva seu prompt final dentro das tags <image_prompt>.\n",
      "        \n"
     ]
    }
   ],
   "source": [
    "from src.GenerateHistory.Prompts.generate_prompt_image import ImagePromptFormatter\n",
    "story_segment = \"O cavaleiro corajoso montava seu cavalo branco através do campo verdejante em direção ao castelo.\"\n",
    "\n",
    "    # Inicializa o formatador de prompt de imagem com o idioma desejado\n",
    "prompt_formatter = ImagePromptFormatter(\"português\")\n",
    "\n",
    "    # Gera o prompt formatado\n",
    "try:\n",
    "        formatted_prompt = prompt_formatter.format_prompt(story_segment)\n",
    "        print(formatted_prompt)\n",
    "except ValueError as e:\n",
    "        print(e)\n"
   ]
  },
  {
   "cell_type": "markdown",
   "metadata": {},
   "source": [
    "### Imagem prompt formater"
   ]
  },
  {
   "cell_type": "code",
   "execution_count": 5,
   "metadata": {},
   "outputs": [
    {
     "name": "stdout",
     "output_type": "stream",
     "text": [
      "História: \n",
      "Olá, crianças! Hoje vou contar uma história sobre um lugar muito antigo chamado Roma. Era uma cidade incrível, fundada em 753 a.C. por duas crianças chamadas Rômulo e Remo. Vocês conhecem essa lenda? Dizem que quando eram bebês, eles foram abandonados às margens de um rio e foram amamentados por uma loba! Que aventura, não é?\n",
      "\n",
      "Rômulo e Remo cresceram e fundaram a primeira povoação que viria a se tornar a grande cidade de Roma. No começo, Roma era governada por reis, escolhidos entre as famílias importantes. Imaginem um rei vivendo num enorme castelo, tomando decisões importantes junto com um grupo de homens velhos e sábios, chamado Senado.\n",
      "\n",
      "Prompt gerado para imagem: Scene depicting a majestic ancient castle in Rome, with towering stone walls, a central keep, and battlement-lined turrets. An elderly, bearded king adorned in royal purple robes sits on an ornate throne in the grand hall, surrounded by a circle of wise old men in togas representing the Roman Senate. Golden sunlight streams through arched windows, illuminating the intricate mosaic tile floors and casting dramatic shadows. Outside the castle walls, the bustling city of Rome spreads out with rows of terra cotta roofed buildings against a backdrop of green hills and a winding river.\n",
      "\n",
      "História: \n",
      "Depois de muito tempo sendo governada por reis, os romanos decidiram mudar as regras. Eles depuseram o último rei e criaram um novo sistema chamado República. Agora, em vez de um rei, havia dois líderes poderosos chamados cônsules, escolhidos pelo povo a cada ano.\n",
      "\n",
      "Mas havia um problema: nem todos os romanos tinham os mesmos direitos. O povo era dividido em dois grandes grupos - os patrícios, que eram ricos e mandavam em tudo, e os plebeus, que eram pobres e não podiam participar muito das decisões. Imaginem como seria se na sua escola apenas alguns colegas pudessem brincar no parquinho e os outros ficassem de fora?\n",
      "\n",
      "Prompt gerado para imagem: A bright and colorful ancient Roman city scene with a central plaza or forum. In the foreground, a group of finely-dressed patrician elders sit on ornate stone benches, conversing with stern expressions. Nearby, a group of roughly-clothed plebeian citizens stand outside the plaza, peering through the columns with longing gazes, excluded from the decision-making area. The sky is a deep azure with fluffy white clouds, and the buildings have warm terracotta roofs and sandstone walls with intricate carvings. A large statue of a Roman consul in traditional toga stands prominently in the center of the plaza.\n",
      "\n",
      "História: \n",
      "Os plebeus ficaram muito bravos com essa situação injusta e começaram a lutar por seus direitos. Depois de muitas batalhas, eles conseguiram que um novo cargo fosse criado - o Tribuno da Plebe. Esse líder podia defender os interesses dos plebeus e até mesmo vetar decisões do poderoso Senado!\n",
      "\n",
      "Além disso, os plebeus conquistaram outras vitórias importantes, como o direito de se casar com patrícios e até mesmo de se tornar sacerdotes. E a melhor parte é que eles conseguiram que fosse escrito um grande livro de leis, chamado Lei das Doze Tábuas, que valia para todos os homens livres de Roma. Ufa, que batalha difícil, mas no final tudo ficou mais justo!\n",
      "\n",
      "Prompt gerado para imagem: A grand marble chamber in ancient Rome, with high ceilings and ornate columns. In the center, a spirited crowd of plebians in flowing earth-toned tunics and sandals are cheering triumphantly, raising their fists in the air. In front of them stands a proud figure dressed in a deep purple robe, the newly appointed Tribune of the Plebs, his face stern yet victorious. Sunlight streams through arched windows, illuminating a large stone tablet engraved with intricate Roman letters - the Law of the Twelve Tables.\n",
      "\n",
      "História: \n",
      "Enquanto os plebeus lutavam por seus direitos, os romanos também estavam ocupados conquistando novos territórios em guerras contra outros povos poderosos, como os cartagineses. Foram três grandes guerras, chamadas Guerras Púnicas.\n",
      "\n",
      "Na primeira guerra, Roma venceu e ficou com as ilhas da Sardenha, Córsega e Sicília. Na segunda, um bravo general inimigo chamado Aníbal até cruzou os imensos Alpes com um grande exército de elefantes para atacar Roma! Mas os romanos conseguiram derrotá-lo novamente. E na terceira guerra, eles destruíram a cidade inteira de Cartago. Com essas vitórias, Roma se tornou a potência mais forte de toda a região do Mediterrâneo. Imagine que guerras épicas!\n",
      "\n",
      "Prompt gerado para imagem: A vast, panoramic battle scene with the ancient city of Rome in the background, its majestic architecture and iconic Colosseum visible under a golden sunset sky. In the foreground, Roman legions clad in crimson tunics and gleaming armor clash fiercely against Carthaginian forces, led by the legendary general Hannibal atop a magnificent war elephant towering over the chaos. Dust and smoke swirl amidst the melee of soldiers engaging in hand-to-hand combat with swords, spears, and shields. Blood-red banners flutter in the wind, contrasting with the deep green olive groves surrounding the battlefield.\n",
      "\n",
      "História: \n",
      "Com tantas vitórias e territórios conquistados, Roma ficou enorme e poderosa. Todo o mar que ficava entre a Europa, Ásia e África passou a ser chamado de \"Nosso Mar\" pelos romanos. Eles dominavam quase tudo!\n",
      "\n",
      "Mas com tanto poder, alguns generais do exército romano ficaram muito ambiciosos e começaram a lutar pelo controle de Roma. Um deles era Júlio César, que até se tornou um imperador ditador por um tempo.\n",
      "\n",
      "Os romanos não gostaram de perder seu poder para César, e ele acabou sendo assassinado numa traição. Depois de batalhas internas, o poder foi assumido por outro general chamado Marco Antônio, que se tornou o primeiro Imperador de Roma, iniciando o período conhecido como Império Romano.\n",
      "\n",
      "Prompt gerado para imagem: A large, imposing marble statue of Julius Caesar in a triumphant pose, wearing ornate Roman imperial robes of deep crimson and gold, standing atop a towering stone pedestal. The statue's face is finely sculpted with a stern expression. In the background, the sprawling city of ancient Rome with its iconic domed buildings, aqueducts, and the Colosseum bathed in golden sunlight. A group of Roman legionnaires clad in red capes and bronze armor march in formation across a plaza filled with bustling crowds of civilians in colorful togas.\n",
      "\n",
      "História: \n",
      "O Império Romano se dividiu em dois períodos. O primeiro, chamado Alto Império, foi uma época de muita riqueza, estabilidade e construções impressionantes, como gigantescas cidades cheias de prédios públicos, estradas e aquedutos.\n",
      "\n",
      "Mas infelizmente, no segundo período, o Baixo Império, tudo começou a desmoronar. A economia piorou, houve muitas revoltas internas e os bárbaros - povos de outras regiões que os romanos consideravam inferiores - começaram a invadir as fronteiras do Império. Imagine estrangeiros tentando tomar sua cidade à força!\n",
      "\n",
      "Para piorar, o território romano ficou tão grande que ficou difícil de governar. Por isso, o Império acabou sendo dividido em duas partes - a do Ocidente, com capital em Roma, e a do Oriente, com capital em Constantinopla. Mas mesmo assim, os problemas não pararam. Em 476 d.C., a cidade de Roma foi invadida e saqueada, marcando o fim do Império Romano do Ocidente depois de mais de mil anos de domínio. A Idade Antiga havia terminado, e uma nova era, a Idade Média, começava na Europa.\n",
      "\n",
      "Prompt gerado para imagem: A grand city of ancient Rome during its decline, with crumbling marble columns and buildings under a brooding sunset sky. Barbarian invaders on horseback charge through the streets, weapons raised, as civilians flee in terror. Statues lie toppled and braziers smolder, casting an eerie reddish-orange glow over the chaotic scene of the city's downfall.\n",
      "\n"
     ]
    }
   ],
   "source": [
    "from src.GenerateHistory.Generate.run_history_image import StoryToImagePromptPipeline\n",
    "    # Simulação das partes da história geradas pelo EducationalStoryPromptFormatter\n",
    "\n",
    "\n",
    "   \n",
    "story_pipeline = StoryToImagePromptPipeline(story_structure, \"inglês\")\n",
    "    \n",
    "results = story_pipeline.process_story_parts()\n",
    "\n",
    "    # Exibe o resultado\n",
    "for result in results:\n",
    "    print(f\"História: {result['story']}\")\n",
    "    print(f\"Prompt gerado para imagem: {result['prompt_img']}\\n\")"
   ]
  },
  {
   "cell_type": "code",
   "execution_count": 6,
   "metadata": {},
   "outputs": [
    {
     "data": {
      "text/plain": [
       "[{'story': '\\nOlá, crianças! Hoje vou contar uma história sobre um lugar muito antigo chamado Roma. Era uma cidade incrível, fundada em 753 a.C. por duas crianças chamadas Rômulo e Remo. Vocês conhecem essa lenda? Dizem que quando eram bebês, eles foram abandonados às margens de um rio e foram amamentados por uma loba! Que aventura, não é?\\n\\nRômulo e Remo cresceram e fundaram a primeira povoação que viria a se tornar a grande cidade de Roma. No começo, Roma era governada por reis, escolhidos entre as famílias importantes. Imaginem um rei vivendo num enorme castelo, tomando decisões importantes junto com um grupo de homens velhos e sábios, chamado Senado.\\n',\n",
       "  'prompt_img': 'Scene depicting a majestic ancient castle in Rome, with towering stone walls, a central keep, and battlement-lined turrets. An elderly, bearded king adorned in royal purple robes sits on an ornate throne in the grand hall, surrounded by a circle of wise old men in togas representing the Roman Senate. Golden sunlight streams through arched windows, illuminating the intricate mosaic tile floors and casting dramatic shadows. Outside the castle walls, the bustling city of Rome spreads out with rows of terra cotta roofed buildings against a backdrop of green hills and a winding river.'},\n",
       " {'story': '\\nDepois de muito tempo sendo governada por reis, os romanos decidiram mudar as regras. Eles depuseram o último rei e criaram um novo sistema chamado República. Agora, em vez de um rei, havia dois líderes poderosos chamados cônsules, escolhidos pelo povo a cada ano.\\n\\nMas havia um problema: nem todos os romanos tinham os mesmos direitos. O povo era dividido em dois grandes grupos - os patrícios, que eram ricos e mandavam em tudo, e os plebeus, que eram pobres e não podiam participar muito das decisões. Imaginem como seria se na sua escola apenas alguns colegas pudessem brincar no parquinho e os outros ficassem de fora?\\n',\n",
       "  'prompt_img': 'A bright and colorful ancient Roman city scene with a central plaza or forum. In the foreground, a group of finely-dressed patrician elders sit on ornate stone benches, conversing with stern expressions. Nearby, a group of roughly-clothed plebeian citizens stand outside the plaza, peering through the columns with longing gazes, excluded from the decision-making area. The sky is a deep azure with fluffy white clouds, and the buildings have warm terracotta roofs and sandstone walls with intricate carvings. A large statue of a Roman consul in traditional toga stands prominently in the center of the plaza.'},\n",
       " {'story': '\\nOs plebeus ficaram muito bravos com essa situação injusta e começaram a lutar por seus direitos. Depois de muitas batalhas, eles conseguiram que um novo cargo fosse criado - o Tribuno da Plebe. Esse líder podia defender os interesses dos plebeus e até mesmo vetar decisões do poderoso Senado!\\n\\nAlém disso, os plebeus conquistaram outras vitórias importantes, como o direito de se casar com patrícios e até mesmo de se tornar sacerdotes. E a melhor parte é que eles conseguiram que fosse escrito um grande livro de leis, chamado Lei das Doze Tábuas, que valia para todos os homens livres de Roma. Ufa, que batalha difícil, mas no final tudo ficou mais justo!\\n',\n",
       "  'prompt_img': 'A grand marble chamber in ancient Rome, with high ceilings and ornate columns. In the center, a spirited crowd of plebians in flowing earth-toned tunics and sandals are cheering triumphantly, raising their fists in the air. In front of them stands a proud figure dressed in a deep purple robe, the newly appointed Tribune of the Plebs, his face stern yet victorious. Sunlight streams through arched windows, illuminating a large stone tablet engraved with intricate Roman letters - the Law of the Twelve Tables.'},\n",
       " {'story': '\\nEnquanto os plebeus lutavam por seus direitos, os romanos também estavam ocupados conquistando novos territórios em guerras contra outros povos poderosos, como os cartagineses. Foram três grandes guerras, chamadas Guerras Púnicas.\\n\\nNa primeira guerra, Roma venceu e ficou com as ilhas da Sardenha, Córsega e Sicília. Na segunda, um bravo general inimigo chamado Aníbal até cruzou os imensos Alpes com um grande exército de elefantes para atacar Roma! Mas os romanos conseguiram derrotá-lo novamente. E na terceira guerra, eles destruíram a cidade inteira de Cartago. Com essas vitórias, Roma se tornou a potência mais forte de toda a região do Mediterrâneo. Imagine que guerras épicas!\\n',\n",
       "  'prompt_img': 'A vast, panoramic battle scene with the ancient city of Rome in the background, its majestic architecture and iconic Colosseum visible under a golden sunset sky. In the foreground, Roman legions clad in crimson tunics and gleaming armor clash fiercely against Carthaginian forces, led by the legendary general Hannibal atop a magnificent war elephant towering over the chaos. Dust and smoke swirl amidst the melee of soldiers engaging in hand-to-hand combat with swords, spears, and shields. Blood-red banners flutter in the wind, contrasting with the deep green olive groves surrounding the battlefield.'},\n",
       " {'story': '\\nCom tantas vitórias e territórios conquistados, Roma ficou enorme e poderosa. Todo o mar que ficava entre a Europa, Ásia e África passou a ser chamado de \"Nosso Mar\" pelos romanos. Eles dominavam quase tudo!\\n\\nMas com tanto poder, alguns generais do exército romano ficaram muito ambiciosos e começaram a lutar pelo controle de Roma. Um deles era Júlio César, que até se tornou um imperador ditador por um tempo.\\n\\nOs romanos não gostaram de perder seu poder para César, e ele acabou sendo assassinado numa traição. Depois de batalhas internas, o poder foi assumido por outro general chamado Marco Antônio, que se tornou o primeiro Imperador de Roma, iniciando o período conhecido como Império Romano.\\n',\n",
       "  'prompt_img': \"A large, imposing marble statue of Julius Caesar in a triumphant pose, wearing ornate Roman imperial robes of deep crimson and gold, standing atop a towering stone pedestal. The statue's face is finely sculpted with a stern expression. In the background, the sprawling city of ancient Rome with its iconic domed buildings, aqueducts, and the Colosseum bathed in golden sunlight. A group of Roman legionnaires clad in red capes and bronze armor march in formation across a plaza filled with bustling crowds of civilians in colorful togas.\"},\n",
       " {'story': '\\nO Império Romano se dividiu em dois períodos. O primeiro, chamado Alto Império, foi uma época de muita riqueza, estabilidade e construções impressionantes, como gigantescas cidades cheias de prédios públicos, estradas e aquedutos.\\n\\nMas infelizmente, no segundo período, o Baixo Império, tudo começou a desmoronar. A economia piorou, houve muitas revoltas internas e os bárbaros - povos de outras regiões que os romanos consideravam inferiores - começaram a invadir as fronteiras do Império. Imagine estrangeiros tentando tomar sua cidade à força!\\n\\nPara piorar, o território romano ficou tão grande que ficou difícil de governar. Por isso, o Império acabou sendo dividido em duas partes - a do Ocidente, com capital em Roma, e a do Oriente, com capital em Constantinopla. Mas mesmo assim, os problemas não pararam. Em 476 d.C., a cidade de Roma foi invadida e saqueada, marcando o fim do Império Romano do Ocidente depois de mais de mil anos de domínio. A Idade Antiga havia terminado, e uma nova era, a Idade Média, começava na Europa.\\n',\n",
       "  'prompt_img': \"A grand city of ancient Rome during its decline, with crumbling marble columns and buildings under a brooding sunset sky. Barbarian invaders on horseback charge through the streets, weapons raised, as civilians flee in terror. Statues lie toppled and braziers smolder, casting an eerie reddish-orange glow over the chaotic scene of the city's downfall.\"}]"
      ]
     },
     "execution_count": 6,
     "metadata": {},
     "output_type": "execute_result"
    }
   ],
   "source": [
    "results"
   ]
  },
  {
   "cell_type": "markdown",
   "metadata": {},
   "source": [
    "## Generate base 64:"
   ]
  },
  {
   "cell_type": "code",
   "execution_count": 7,
   "metadata": {},
   "outputs": [
    {
     "name": "stdout",
     "output_type": "stream",
     "text": [
      "História: \n",
      "Olá, crianças! Hoje vou contar uma história sobre um lugar muito antigo chamado Roma. Era uma cidade incrível, fundada em 753 a.C. por duas crianças chamadas Rômulo e Remo. Vocês conhecem essa lenda? Dizem que quando eram bebês, eles foram abandonados às margens de um rio e foram amamentados por uma loba! Que aventura, não é?\n",
      "\n",
      "Rômulo e Remo cresceram e fundaram a primeira povoação que viria a se tornar a grande cidade de Roma. No começo, Roma era governada por reis, escolhidos entre as famílias importantes. Imaginem um rei vivendo num enorme castelo, tomando decisões importantes junto com um grupo de homens velhos e sábios, chamado Senado.\n",
      "\n",
      "Imagem gerada (base64): iVBORw0KGgoAAAANSUhEUgAABAAAAAQACAIAAADwf7zUAAAGmG... [truncated]\n",
      "\n",
      "História: \n",
      "Depois de muito tempo sendo governada por reis, os romanos decidiram mudar as regras. Eles depuseram o último rei e criaram um novo sistema chamado República. Agora, em vez de um rei, havia dois líderes poderosos chamados cônsules, escolhidos pelo povo a cada ano.\n",
      "\n",
      "Mas havia um problema: nem todos os romanos tinham os mesmos direitos. O povo era dividido em dois grandes grupos - os patrícios, que eram ricos e mandavam em tudo, e os plebeus, que eram pobres e não podiam participar muito das decisões. Imaginem como seria se na sua escola apenas alguns colegas pudessem brincar no parquinho e os outros ficassem de fora?\n",
      "\n",
      "Imagem gerada (base64): iVBORw0KGgoAAAANSUhEUgAABAAAAAQACAIAAADwf7zUAAAG4G... [truncated]\n",
      "\n",
      "História: \n",
      "Os plebeus ficaram muito bravos com essa situação injusta e começaram a lutar por seus direitos. Depois de muitas batalhas, eles conseguiram que um novo cargo fosse criado - o Tribuno da Plebe. Esse líder podia defender os interesses dos plebeus e até mesmo vetar decisões do poderoso Senado!\n",
      "\n",
      "Além disso, os plebeus conquistaram outras vitórias importantes, como o direito de se casar com patrícios e até mesmo de se tornar sacerdotes. E a melhor parte é que eles conseguiram que fosse escrito um grande livro de leis, chamado Lei das Doze Tábuas, que valia para todos os homens livres de Roma. Ufa, que batalha difícil, mas no final tudo ficou mais justo!\n",
      "\n",
      "Imagem gerada (base64): iVBORw0KGgoAAAANSUhEUgAABAAAAAQACAIAAADwf7zUAAAF/G... [truncated]\n",
      "\n",
      "História: \n",
      "Enquanto os plebeus lutavam por seus direitos, os romanos também estavam ocupados conquistando novos territórios em guerras contra outros povos poderosos, como os cartagineses. Foram três grandes guerras, chamadas Guerras Púnicas.\n",
      "\n",
      "Na primeira guerra, Roma venceu e ficou com as ilhas da Sardenha, Córsega e Sicília. Na segunda, um bravo general inimigo chamado Aníbal até cruzou os imensos Alpes com um grande exército de elefantes para atacar Roma! Mas os romanos conseguiram derrotá-lo novamente. E na terceira guerra, eles destruíram a cidade inteira de Cartago. Com essas vitórias, Roma se tornou a potência mais forte de toda a região do Mediterrâneo. Imagine que guerras épicas!\n",
      "\n",
      "Imagem gerada (base64): iVBORw0KGgoAAAANSUhEUgAABAAAAAQACAIAAADwf7zUAAAGum... [truncated]\n",
      "\n",
      "História: \n",
      "Com tantas vitórias e territórios conquistados, Roma ficou enorme e poderosa. Todo o mar que ficava entre a Europa, Ásia e África passou a ser chamado de \"Nosso Mar\" pelos romanos. Eles dominavam quase tudo!\n",
      "\n",
      "Mas com tanto poder, alguns generais do exército romano ficaram muito ambiciosos e começaram a lutar pelo controle de Roma. Um deles era Júlio César, que até se tornou um imperador ditador por um tempo.\n",
      "\n",
      "Os romanos não gostaram de perder seu poder para César, e ele acabou sendo assassinado numa traição. Depois de batalhas internas, o poder foi assumido por outro general chamado Marco Antônio, que se tornou o primeiro Imperador de Roma, iniciando o período conhecido como Império Romano.\n",
      "\n",
      "Imagem gerada (base64): iVBORw0KGgoAAAANSUhEUgAABAAAAAQACAIAAADwf7zUAAAGRG... [truncated]\n",
      "\n",
      "História: \n",
      "O Império Romano se dividiu em dois períodos. O primeiro, chamado Alto Império, foi uma época de muita riqueza, estabilidade e construções impressionantes, como gigantescas cidades cheias de prédios públicos, estradas e aquedutos.\n",
      "\n",
      "Mas infelizmente, no segundo período, o Baixo Império, tudo começou a desmoronar. A economia piorou, houve muitas revoltas internas e os bárbaros - povos de outras regiões que os romanos consideravam inferiores - começaram a invadir as fronteiras do Império. Imagine estrangeiros tentando tomar sua cidade à força!\n",
      "\n",
      "Para piorar, o território romano ficou tão grande que ficou difícil de governar. Por isso, o Império acabou sendo dividido em duas partes - a do Ocidente, com capital em Roma, e a do Oriente, com capital em Constantinopla. Mas mesmo assim, os problemas não pararam. Em 476 d.C., a cidade de Roma foi invadida e saqueada, marcando o fim do Império Romano do Ocidente depois de mais de mil anos de domínio. A Idade Antiga havia terminado, e uma nova era, a Idade Média, começava na Europa.\n",
      "\n",
      "Imagem gerada (base64): iVBORw0KGgoAAAANSUhEUgAABAAAAAQACAIAAADwf7zUAAAEkm... [truncated]\n",
      "\n"
     ]
    }
   ],
   "source": [
    "\n",
    "from src.GenerateHistory.Generate.run_image import StoryImagePipeline\n",
    "\n",
    "\n",
    "story_image_pipeline = StoryImagePipeline(results, region_name=\"us-east-1\")\n",
    "    \n",
    "updated_stories = story_image_pipeline.process_images()\n",
    "\n",
    "for story in updated_stories:\n",
    "    print(f\"História: {story['story']}\")\n",
    "    print(f\"Imagem gerada (base64): {story['img'][:50]}... [truncated]\\n\")"
   ]
  }
 ],
 "metadata": {
  "kernelspec": {
   "display_name": "Python 3",
   "language": "python",
   "name": "python3"
  },
  "language_info": {
   "codemirror_mode": {
    "name": "ipython",
    "version": 3
   },
   "file_extension": ".py",
   "mimetype": "text/x-python",
   "name": "python",
   "nbconvert_exporter": "python",
   "pygments_lexer": "ipython3",
   "version": "3.9.18"
  }
 },
 "nbformat": 4,
 "nbformat_minor": 2
}
